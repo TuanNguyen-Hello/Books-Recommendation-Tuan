{
  "cells": [
    {
      "cell_type": "markdown",
      "metadata": {
        "id": "view-in-github",
        "colab_type": "text"
      },
      "source": [
        "<a href=\"https://colab.research.google.com/github/TuanNguyen-Hello/Books-Recommendation-Tuan/blob/main/BR_Tuan_WUD.ipynb\" target=\"_parent\"><img src=\"https://colab.research.google.com/assets/colab-badge.svg\" alt=\"Open In Colab\"/></a>"
      ]
    },
    {
      "cell_type": "code",
      "execution_count": null,
      "metadata": {
        "colab": {
          "base_uri": "https://localhost:8080/"
        },
        "id": "1WEuQrA7_sS_",
        "outputId": "82559dd1-e527-49b9-f99c-b4ffffc2f6b5"
      },
      "outputs": [
        {
          "output_type": "stream",
          "name": "stdout",
          "text": [
            "Requirement already satisfied: kagglehub in /usr/local/lib/python3.11/dist-packages (0.3.10)\n",
            "Requirement already satisfied: packaging in /usr/local/lib/python3.11/dist-packages (from kagglehub) (24.2)\n",
            "Requirement already satisfied: pyyaml in /usr/local/lib/python3.11/dist-packages (from kagglehub) (6.0.2)\n",
            "Requirement already satisfied: requests in /usr/local/lib/python3.11/dist-packages (from kagglehub) (2.32.3)\n",
            "Requirement already satisfied: tqdm in /usr/local/lib/python3.11/dist-packages (from kagglehub) (4.67.1)\n",
            "Requirement already satisfied: charset-normalizer<4,>=2 in /usr/local/lib/python3.11/dist-packages (from requests->kagglehub) (3.4.1)\n",
            "Requirement already satisfied: idna<4,>=2.5 in /usr/local/lib/python3.11/dist-packages (from requests->kagglehub) (3.10)\n",
            "Requirement already satisfied: urllib3<3,>=1.21.1 in /usr/local/lib/python3.11/dist-packages (from requests->kagglehub) (2.3.0)\n",
            "Requirement already satisfied: certifi>=2017.4.17 in /usr/local/lib/python3.11/dist-packages (from requests->kagglehub) (2025.1.31)\n"
          ]
        }
      ],
      "source": [
        "!pip install kagglehub"
      ]
    },
    {
      "cell_type": "code",
      "execution_count": null,
      "metadata": {
        "colab": {
          "base_uri": "https://localhost:8080/"
        },
        "id": "pwgiD82s_vfS",
        "outputId": "2e0e5395-11a4-4816-ac96-cc2a3f1b389c"
      },
      "outputs": [
        {
          "output_type": "stream",
          "name": "stdout",
          "text": [
            "Requirement already satisfied: sentence_transformers in /usr/local/lib/python3.11/dist-packages (3.4.1)\n",
            "Requirement already satisfied: transformers<5.0.0,>=4.41.0 in /usr/local/lib/python3.11/dist-packages (from sentence_transformers) (4.48.3)\n",
            "Requirement already satisfied: tqdm in /usr/local/lib/python3.11/dist-packages (from sentence_transformers) (4.67.1)\n",
            "Requirement already satisfied: torch>=1.11.0 in /usr/local/lib/python3.11/dist-packages (from sentence_transformers) (2.5.1+cu124)\n",
            "Requirement already satisfied: scikit-learn in /usr/local/lib/python3.11/dist-packages (from sentence_transformers) (1.6.1)\n",
            "Requirement already satisfied: scipy in /usr/local/lib/python3.11/dist-packages (from sentence_transformers) (1.13.1)\n",
            "Requirement already satisfied: huggingface-hub>=0.20.0 in /usr/local/lib/python3.11/dist-packages (from sentence_transformers) (0.28.1)\n",
            "Requirement already satisfied: Pillow in /usr/local/lib/python3.11/dist-packages (from sentence_transformers) (11.1.0)\n",
            "Requirement already satisfied: filelock in /usr/local/lib/python3.11/dist-packages (from huggingface-hub>=0.20.0->sentence_transformers) (3.17.0)\n",
            "Requirement already satisfied: fsspec>=2023.5.0 in /usr/local/lib/python3.11/dist-packages (from huggingface-hub>=0.20.0->sentence_transformers) (2024.10.0)\n",
            "Requirement already satisfied: packaging>=20.9 in /usr/local/lib/python3.11/dist-packages (from huggingface-hub>=0.20.0->sentence_transformers) (24.2)\n",
            "Requirement already satisfied: pyyaml>=5.1 in /usr/local/lib/python3.11/dist-packages (from huggingface-hub>=0.20.0->sentence_transformers) (6.0.2)\n",
            "Requirement already satisfied: requests in /usr/local/lib/python3.11/dist-packages (from huggingface-hub>=0.20.0->sentence_transformers) (2.32.3)\n",
            "Requirement already satisfied: typing-extensions>=3.7.4.3 in /usr/local/lib/python3.11/dist-packages (from huggingface-hub>=0.20.0->sentence_transformers) (4.12.2)\n",
            "Requirement already satisfied: networkx in /usr/local/lib/python3.11/dist-packages (from torch>=1.11.0->sentence_transformers) (3.4.2)\n",
            "Requirement already satisfied: jinja2 in /usr/local/lib/python3.11/dist-packages (from torch>=1.11.0->sentence_transformers) (3.1.5)\n",
            "Collecting nvidia-cuda-nvrtc-cu12==12.4.127 (from torch>=1.11.0->sentence_transformers)\n",
            "  Downloading nvidia_cuda_nvrtc_cu12-12.4.127-py3-none-manylinux2014_x86_64.whl.metadata (1.5 kB)\n",
            "Collecting nvidia-cuda-runtime-cu12==12.4.127 (from torch>=1.11.0->sentence_transformers)\n",
            "  Downloading nvidia_cuda_runtime_cu12-12.4.127-py3-none-manylinux2014_x86_64.whl.metadata (1.5 kB)\n",
            "Collecting nvidia-cuda-cupti-cu12==12.4.127 (from torch>=1.11.0->sentence_transformers)\n",
            "  Downloading nvidia_cuda_cupti_cu12-12.4.127-py3-none-manylinux2014_x86_64.whl.metadata (1.6 kB)\n",
            "Collecting nvidia-cudnn-cu12==9.1.0.70 (from torch>=1.11.0->sentence_transformers)\n",
            "  Downloading nvidia_cudnn_cu12-9.1.0.70-py3-none-manylinux2014_x86_64.whl.metadata (1.6 kB)\n",
            "Collecting nvidia-cublas-cu12==12.4.5.8 (from torch>=1.11.0->sentence_transformers)\n",
            "  Downloading nvidia_cublas_cu12-12.4.5.8-py3-none-manylinux2014_x86_64.whl.metadata (1.5 kB)\n",
            "Collecting nvidia-cufft-cu12==11.2.1.3 (from torch>=1.11.0->sentence_transformers)\n",
            "  Downloading nvidia_cufft_cu12-11.2.1.3-py3-none-manylinux2014_x86_64.whl.metadata (1.5 kB)\n",
            "Collecting nvidia-curand-cu12==10.3.5.147 (from torch>=1.11.0->sentence_transformers)\n",
            "  Downloading nvidia_curand_cu12-10.3.5.147-py3-none-manylinux2014_x86_64.whl.metadata (1.5 kB)\n",
            "Collecting nvidia-cusolver-cu12==11.6.1.9 (from torch>=1.11.0->sentence_transformers)\n",
            "  Downloading nvidia_cusolver_cu12-11.6.1.9-py3-none-manylinux2014_x86_64.whl.metadata (1.6 kB)\n",
            "Collecting nvidia-cusparse-cu12==12.3.1.170 (from torch>=1.11.0->sentence_transformers)\n",
            "  Downloading nvidia_cusparse_cu12-12.3.1.170-py3-none-manylinux2014_x86_64.whl.metadata (1.6 kB)\n",
            "Requirement already satisfied: nvidia-nccl-cu12==2.21.5 in /usr/local/lib/python3.11/dist-packages (from torch>=1.11.0->sentence_transformers) (2.21.5)\n",
            "Requirement already satisfied: nvidia-nvtx-cu12==12.4.127 in /usr/local/lib/python3.11/dist-packages (from torch>=1.11.0->sentence_transformers) (12.4.127)\n",
            "Collecting nvidia-nvjitlink-cu12==12.4.127 (from torch>=1.11.0->sentence_transformers)\n",
            "  Downloading nvidia_nvjitlink_cu12-12.4.127-py3-none-manylinux2014_x86_64.whl.metadata (1.5 kB)\n",
            "Requirement already satisfied: triton==3.1.0 in /usr/local/lib/python3.11/dist-packages (from torch>=1.11.0->sentence_transformers) (3.1.0)\n",
            "Requirement already satisfied: sympy==1.13.1 in /usr/local/lib/python3.11/dist-packages (from torch>=1.11.0->sentence_transformers) (1.13.1)\n",
            "Requirement already satisfied: mpmath<1.4,>=1.1.0 in /usr/local/lib/python3.11/dist-packages (from sympy==1.13.1->torch>=1.11.0->sentence_transformers) (1.3.0)\n",
            "Requirement already satisfied: numpy>=1.17 in /usr/local/lib/python3.11/dist-packages (from transformers<5.0.0,>=4.41.0->sentence_transformers) (1.26.4)\n",
            "Requirement already satisfied: regex!=2019.12.17 in /usr/local/lib/python3.11/dist-packages (from transformers<5.0.0,>=4.41.0->sentence_transformers) (2024.11.6)\n",
            "Requirement already satisfied: tokenizers<0.22,>=0.21 in /usr/local/lib/python3.11/dist-packages (from transformers<5.0.0,>=4.41.0->sentence_transformers) (0.21.0)\n",
            "Requirement already satisfied: safetensors>=0.4.1 in /usr/local/lib/python3.11/dist-packages (from transformers<5.0.0,>=4.41.0->sentence_transformers) (0.5.3)\n",
            "Requirement already satisfied: joblib>=1.2.0 in /usr/local/lib/python3.11/dist-packages (from scikit-learn->sentence_transformers) (1.4.2)\n",
            "Requirement already satisfied: threadpoolctl>=3.1.0 in /usr/local/lib/python3.11/dist-packages (from scikit-learn->sentence_transformers) (3.5.0)\n",
            "Requirement already satisfied: MarkupSafe>=2.0 in /usr/local/lib/python3.11/dist-packages (from jinja2->torch>=1.11.0->sentence_transformers) (3.0.2)\n",
            "Requirement already satisfied: charset-normalizer<4,>=2 in /usr/local/lib/python3.11/dist-packages (from requests->huggingface-hub>=0.20.0->sentence_transformers) (3.4.1)\n",
            "Requirement already satisfied: idna<4,>=2.5 in /usr/local/lib/python3.11/dist-packages (from requests->huggingface-hub>=0.20.0->sentence_transformers) (3.10)\n",
            "Requirement already satisfied: urllib3<3,>=1.21.1 in /usr/local/lib/python3.11/dist-packages (from requests->huggingface-hub>=0.20.0->sentence_transformers) (2.3.0)\n",
            "Requirement already satisfied: certifi>=2017.4.17 in /usr/local/lib/python3.11/dist-packages (from requests->huggingface-hub>=0.20.0->sentence_transformers) (2025.1.31)\n",
            "Downloading nvidia_cublas_cu12-12.4.5.8-py3-none-manylinux2014_x86_64.whl (363.4 MB)\n",
            "\u001b[2K   \u001b[90m━━━━━━━━━━━━━━━━━━━━━━━━━━━━━━━━━━━━━━━━\u001b[0m \u001b[32m363.4/363.4 MB\u001b[0m \u001b[31m3.4 MB/s\u001b[0m eta \u001b[36m0:00:00\u001b[0m\n",
            "\u001b[?25hDownloading nvidia_cuda_cupti_cu12-12.4.127-py3-none-manylinux2014_x86_64.whl (13.8 MB)\n",
            "\u001b[2K   \u001b[90m━━━━━━━━━━━━━━━━━━━━━━━━━━━━━━━━━━━━━━━━\u001b[0m \u001b[32m13.8/13.8 MB\u001b[0m \u001b[31m62.5 MB/s\u001b[0m eta \u001b[36m0:00:00\u001b[0m\n",
            "\u001b[?25hDownloading nvidia_cuda_nvrtc_cu12-12.4.127-py3-none-manylinux2014_x86_64.whl (24.6 MB)\n",
            "\u001b[2K   \u001b[90m━━━━━━━━━━━━━━━━━━━━━━━━━━━━━━━━━━━━━━━━\u001b[0m \u001b[32m24.6/24.6 MB\u001b[0m \u001b[31m29.3 MB/s\u001b[0m eta \u001b[36m0:00:00\u001b[0m\n",
            "\u001b[?25hDownloading nvidia_cuda_runtime_cu12-12.4.127-py3-none-manylinux2014_x86_64.whl (883 kB)\n",
            "\u001b[2K   \u001b[90m━━━━━━━━━━━━━━━━━━━━━━━━━━━━━━━━━━━━━━━━\u001b[0m \u001b[32m883.7/883.7 kB\u001b[0m \u001b[31m24.4 MB/s\u001b[0m eta \u001b[36m0:00:00\u001b[0m\n",
            "\u001b[?25hDownloading nvidia_cudnn_cu12-9.1.0.70-py3-none-manylinux2014_x86_64.whl (664.8 MB)\n",
            "\u001b[2K   \u001b[90m━━━━━━━━━━━━━━━━━━━━━━━━━━━━━━━━━━━━━━━━\u001b[0m \u001b[32m664.8/664.8 MB\u001b[0m \u001b[31m2.7 MB/s\u001b[0m eta \u001b[36m0:00:00\u001b[0m\n",
            "\u001b[?25hDownloading nvidia_cufft_cu12-11.2.1.3-py3-none-manylinux2014_x86_64.whl (211.5 MB)\n",
            "\u001b[2K   \u001b[90m━━━━━━━━━━━━━━━━━━━━━━━━━━━━━━━━━━━━━━━━\u001b[0m \u001b[32m211.5/211.5 MB\u001b[0m \u001b[31m4.9 MB/s\u001b[0m eta \u001b[36m0:00:00\u001b[0m\n",
            "\u001b[?25hDownloading nvidia_curand_cu12-10.3.5.147-py3-none-manylinux2014_x86_64.whl (56.3 MB)\n",
            "\u001b[2K   \u001b[90m━━━━━━━━━━━━━━━━━━━━━━━━━━━━━━━━━━━━━━━━\u001b[0m \u001b[32m56.3/56.3 MB\u001b[0m \u001b[31m12.0 MB/s\u001b[0m eta \u001b[36m0:00:00\u001b[0m\n",
            "\u001b[?25hDownloading nvidia_cusolver_cu12-11.6.1.9-py3-none-manylinux2014_x86_64.whl (127.9 MB)\n",
            "\u001b[2K   \u001b[90m━━━━━━━━━━━━━━━━━━━━━━━━━━━━━━━━━━━━━━━━\u001b[0m \u001b[32m127.9/127.9 MB\u001b[0m \u001b[31m7.5 MB/s\u001b[0m eta \u001b[36m0:00:00\u001b[0m\n",
            "\u001b[?25hDownloading nvidia_cusparse_cu12-12.3.1.170-py3-none-manylinux2014_x86_64.whl (207.5 MB)\n",
            "\u001b[2K   \u001b[90m━━━━━━━━━━━━━━━━━━━━━━━━━━━━━━━━━━━━━━━━\u001b[0m \u001b[32m207.5/207.5 MB\u001b[0m \u001b[31m5.8 MB/s\u001b[0m eta \u001b[36m0:00:00\u001b[0m\n",
            "\u001b[?25hDownloading nvidia_nvjitlink_cu12-12.4.127-py3-none-manylinux2014_x86_64.whl (21.1 MB)\n",
            "\u001b[2K   \u001b[90m━━━━━━━━━━━━━━━━━━━━━━━━━━━━━━━━━━━━━━━━\u001b[0m \u001b[32m21.1/21.1 MB\u001b[0m \u001b[31m48.2 MB/s\u001b[0m eta \u001b[36m0:00:00\u001b[0m\n",
            "\u001b[?25hInstalling collected packages: nvidia-nvjitlink-cu12, nvidia-curand-cu12, nvidia-cufft-cu12, nvidia-cuda-runtime-cu12, nvidia-cuda-nvrtc-cu12, nvidia-cuda-cupti-cu12, nvidia-cublas-cu12, nvidia-cusparse-cu12, nvidia-cudnn-cu12, nvidia-cusolver-cu12\n",
            "  Attempting uninstall: nvidia-nvjitlink-cu12\n",
            "    Found existing installation: nvidia-nvjitlink-cu12 12.5.82\n",
            "    Uninstalling nvidia-nvjitlink-cu12-12.5.82:\n",
            "      Successfully uninstalled nvidia-nvjitlink-cu12-12.5.82\n",
            "  Attempting uninstall: nvidia-curand-cu12\n",
            "    Found existing installation: nvidia-curand-cu12 10.3.6.82\n",
            "    Uninstalling nvidia-curand-cu12-10.3.6.82:\n",
            "      Successfully uninstalled nvidia-curand-cu12-10.3.6.82\n",
            "  Attempting uninstall: nvidia-cufft-cu12\n",
            "    Found existing installation: nvidia-cufft-cu12 11.2.3.61\n",
            "    Uninstalling nvidia-cufft-cu12-11.2.3.61:\n",
            "      Successfully uninstalled nvidia-cufft-cu12-11.2.3.61\n",
            "  Attempting uninstall: nvidia-cuda-runtime-cu12\n",
            "    Found existing installation: nvidia-cuda-runtime-cu12 12.5.82\n",
            "    Uninstalling nvidia-cuda-runtime-cu12-12.5.82:\n",
            "      Successfully uninstalled nvidia-cuda-runtime-cu12-12.5.82\n",
            "  Attempting uninstall: nvidia-cuda-nvrtc-cu12\n",
            "    Found existing installation: nvidia-cuda-nvrtc-cu12 12.5.82\n",
            "    Uninstalling nvidia-cuda-nvrtc-cu12-12.5.82:\n",
            "      Successfully uninstalled nvidia-cuda-nvrtc-cu12-12.5.82\n",
            "  Attempting uninstall: nvidia-cuda-cupti-cu12\n",
            "    Found existing installation: nvidia-cuda-cupti-cu12 12.5.82\n",
            "    Uninstalling nvidia-cuda-cupti-cu12-12.5.82:\n",
            "      Successfully uninstalled nvidia-cuda-cupti-cu12-12.5.82\n",
            "  Attempting uninstall: nvidia-cublas-cu12\n",
            "    Found existing installation: nvidia-cublas-cu12 12.5.3.2\n",
            "    Uninstalling nvidia-cublas-cu12-12.5.3.2:\n",
            "      Successfully uninstalled nvidia-cublas-cu12-12.5.3.2\n",
            "  Attempting uninstall: nvidia-cusparse-cu12\n",
            "    Found existing installation: nvidia-cusparse-cu12 12.5.1.3\n",
            "    Uninstalling nvidia-cusparse-cu12-12.5.1.3:\n",
            "      Successfully uninstalled nvidia-cusparse-cu12-12.5.1.3\n",
            "  Attempting uninstall: nvidia-cudnn-cu12\n",
            "    Found existing installation: nvidia-cudnn-cu12 9.3.0.75\n",
            "    Uninstalling nvidia-cudnn-cu12-9.3.0.75:\n",
            "      Successfully uninstalled nvidia-cudnn-cu12-9.3.0.75\n",
            "  Attempting uninstall: nvidia-cusolver-cu12\n",
            "    Found existing installation: nvidia-cusolver-cu12 11.6.3.83\n",
            "    Uninstalling nvidia-cusolver-cu12-11.6.3.83:\n",
            "      Successfully uninstalled nvidia-cusolver-cu12-11.6.3.83\n",
            "Successfully installed nvidia-cublas-cu12-12.4.5.8 nvidia-cuda-cupti-cu12-12.4.127 nvidia-cuda-nvrtc-cu12-12.4.127 nvidia-cuda-runtime-cu12-12.4.127 nvidia-cudnn-cu12-9.1.0.70 nvidia-cufft-cu12-11.2.1.3 nvidia-curand-cu12-10.3.5.147 nvidia-cusolver-cu12-11.6.1.9 nvidia-cusparse-cu12-12.3.1.170 nvidia-nvjitlink-cu12-12.4.127\n"
          ]
        }
      ],
      "source": [
        "!pip install sentence_transformers"
      ]
    },
    {
      "cell_type": "code",
      "source": [
        "import kagglehub\n",
        "\n",
        "path = kagglehub.dataset_download(\"dylanjcastillo/7k-books-with-metadata\")\n",
        "print(\"Path to dataset files:\", path)\n",
        "\n",
        "path = kagglehub.dataset_download(\"elvinrustam/books-dataset\")\n",
        "print(\"Path to dataset files:\", path)"
      ],
      "metadata": {
        "colab": {
          "base_uri": "https://localhost:8080/"
        },
        "id": "7yeGdzA3LymV",
        "outputId": "82fa80ea-37b4-4784-b490-db9c8195a459"
      },
      "execution_count": null,
      "outputs": [
        {
          "output_type": "stream",
          "name": "stdout",
          "text": [
            "Downloading from https://www.kaggle.com/api/v1/datasets/download/dylanjcastillo/7k-books-with-metadata?dataset_version_number=3...\n"
          ]
        },
        {
          "output_type": "stream",
          "name": "stderr",
          "text": [
            "100%|██████████| 1.47M/1.47M [00:00<00:00, 79.2MB/s]"
          ]
        },
        {
          "output_type": "stream",
          "name": "stdout",
          "text": [
            "Extracting files...\n",
            "Path to dataset files: /root/.cache/kagglehub/datasets/dylanjcastillo/7k-books-with-metadata/versions/3\n"
          ]
        },
        {
          "output_type": "stream",
          "name": "stderr",
          "text": [
            "\n"
          ]
        },
        {
          "output_type": "stream",
          "name": "stdout",
          "text": [
            "Downloading from https://www.kaggle.com/api/v1/datasets/download/elvinrustam/books-dataset?dataset_version_number=3...\n"
          ]
        },
        {
          "output_type": "stream",
          "name": "stderr",
          "text": [
            "100%|██████████| 52.9M/52.9M [00:00<00:00, 97.2MB/s]"
          ]
        },
        {
          "output_type": "stream",
          "name": "stdout",
          "text": [
            "Extracting files...\n"
          ]
        },
        {
          "output_type": "stream",
          "name": "stderr",
          "text": [
            "\n"
          ]
        },
        {
          "output_type": "stream",
          "name": "stdout",
          "text": [
            "Path to dataset files: /root/.cache/kagglehub/datasets/elvinrustam/books-dataset/versions/3\n"
          ]
        }
      ]
    },
    {
      "cell_type": "code",
      "execution_count": null,
      "metadata": {
        "colab": {
          "base_uri": "https://localhost:8080/"
        },
        "id": "3HNxs-STAPXp",
        "outputId": "c7387c8a-2bcc-4ace-89ff-1a6a4e770473"
      },
      "outputs": [
        {
          "output_type": "stream",
          "name": "stdout",
          "text": [
            "books.csv\n",
            "BooksDatasetClean.csv  BooksDataset.csv\n"
          ]
        }
      ],
      "source": [
        "# Kiem tra tep trong DATASET moi tai ve\n",
        "!ls /root/.cache/kagglehub/datasets/dylanjcastillo/7k-books-with-metadata/versions/3\n",
        "!ls /root/.cache/kagglehub/datasets/elvinrustam/books-dataset/versions/3\n",
        "\n"
      ]
    },
    {
      "cell_type": "code",
      "source": [
        "import pandas as pd\n",
        "\n",
        "# Dataset 1\n",
        "dataset_path1 = \"/root/.cache/kagglehub/datasets/dylanjcastillo/7k-books-with-metadata/versions/3/books.csv\"\n",
        "cols1 = [\"title\", \"categories\", \"description\"]\n",
        "df1 = pd.read_csv(dataset_path1, usecols=cols1)\n",
        "df1 = df1.dropna(subset=cols1)\n",
        "df1 = df1[df1.apply(lambda row: all(isinstance(row[col], str) for col in cols1), axis=1)]\n",
        "\n",
        "# Dataset 2\n",
        "dataset_path2 = \"/root/.cache/kagglehub/datasets/elvinrustam/books-dataset/versions/3/BooksDatasetClean.csv\"\n",
        "cols2 = [\"Title\", \"Category\", \"Description\"]\n",
        "df2 = pd.read_csv(dataset_path2, usecols=cols2)\n",
        "df2 = df2.dropna(subset=cols2)\n",
        "df2 = df2[df2.apply(lambda row: all(isinstance(row[col], str) for col in cols2), axis=1)]\n",
        "\n",
        "\n",
        "df2.rename(columns={\"Title\": \"title\", \"Category\": \"categories\", \"Description\": \"description\"}, inplace=True)\n",
        "\n",
        "merged_df = pd.concat([df1, df2], ignore_index=True)\n",
        "merged_df = merged_df.drop_duplicates()\n",
        "\n",
        "print(\"Dataset gộp có:\", merged_df.shape[0], \"dòng\")\n",
        "merged_df"
      ],
      "metadata": {
        "colab": {
          "base_uri": "https://localhost:8080/",
          "height": 441
        },
        "id": "QOgM4VaPRvLO",
        "outputId": "59e49707-2113-427e-85f3-18d4468a5843"
      },
      "execution_count": null,
      "outputs": [
        {
          "output_type": "stream",
          "name": "stdout",
          "text": [
            "Dataset gộp có: 71548 dòng\n"
          ]
        },
        {
          "output_type": "execute_result",
          "data": {
            "text/plain": [
              "                                                   title  \\\n",
              "0                                                 Gilead   \n",
              "1                                           Spider's Web   \n",
              "2                                           The One Tree   \n",
              "3                                         Rage of angels   \n",
              "4                                         The Four Loves   \n",
              "...                                                  ...   \n",
              "71802                             Like A Sister: A Novel   \n",
              "71803  Creating Web Pages Simplified (3-D Visual Series)   \n",
              "71804               EVA: The Real Key to Creating Wealth   \n",
              "71805  The Essentials of Spanish (REA's Language Seri...   \n",
              "71806               Your First Puppy (Your First Series)   \n",
              "\n",
              "                                              categories  \\\n",
              "0                                                Fiction   \n",
              "1                          Detective and mystery stories   \n",
              "2                                       American fiction   \n",
              "3                                                Fiction   \n",
              "4                                         Christian life   \n",
              "...                                                  ...   \n",
              "71802                                 Fiction , Literary   \n",
              "71803                     Computers , Internet , General   \n",
              "71804   Business & Economics , Corporate Finance , Ge...   \n",
              "71805                   Foreign Language Study , Spanish   \n",
              "71806                              Pets , Dogs , General   \n",
              "\n",
              "                                             description  \n",
              "0      A NOVEL THAT READERS and critics have been eag...  \n",
              "1      A new 'Christie for Christmas' -- a full-lengt...  \n",
              "2      Volume Two of Stephen Donaldson's acclaimed se...  \n",
              "3      A memorable, mesmerizing heroine Jennifer -- b...  \n",
              "4      Lewis' work on the nature of love divides love...  \n",
              "...                                                  ...  \n",
              "71802  Sister cannot say exactly when or where she wa...  \n",
              "71803  An \"owner's manual\" for first-time Web page cr...  \n",
              "71804  Called \"today's hottest financial idea and get...  \n",
              "71805  REA’s Essentials provide quick and easy access...  \n",
              "71806  An introduction to the proper care of puppies ...  \n",
              "\n",
              "[71548 rows x 3 columns]"
            ],
            "text/html": [
              "\n",
              "  <div id=\"df-6e84fa9d-2496-4d37-818c-9f1aeffb53ba\" class=\"colab-df-container\">\n",
              "    <div>\n",
              "<style scoped>\n",
              "    .dataframe tbody tr th:only-of-type {\n",
              "        vertical-align: middle;\n",
              "    }\n",
              "\n",
              "    .dataframe tbody tr th {\n",
              "        vertical-align: top;\n",
              "    }\n",
              "\n",
              "    .dataframe thead th {\n",
              "        text-align: right;\n",
              "    }\n",
              "</style>\n",
              "<table border=\"1\" class=\"dataframe\">\n",
              "  <thead>\n",
              "    <tr style=\"text-align: right;\">\n",
              "      <th></th>\n",
              "      <th>title</th>\n",
              "      <th>categories</th>\n",
              "      <th>description</th>\n",
              "    </tr>\n",
              "  </thead>\n",
              "  <tbody>\n",
              "    <tr>\n",
              "      <th>0</th>\n",
              "      <td>Gilead</td>\n",
              "      <td>Fiction</td>\n",
              "      <td>A NOVEL THAT READERS and critics have been eag...</td>\n",
              "    </tr>\n",
              "    <tr>\n",
              "      <th>1</th>\n",
              "      <td>Spider's Web</td>\n",
              "      <td>Detective and mystery stories</td>\n",
              "      <td>A new 'Christie for Christmas' -- a full-lengt...</td>\n",
              "    </tr>\n",
              "    <tr>\n",
              "      <th>2</th>\n",
              "      <td>The One Tree</td>\n",
              "      <td>American fiction</td>\n",
              "      <td>Volume Two of Stephen Donaldson's acclaimed se...</td>\n",
              "    </tr>\n",
              "    <tr>\n",
              "      <th>3</th>\n",
              "      <td>Rage of angels</td>\n",
              "      <td>Fiction</td>\n",
              "      <td>A memorable, mesmerizing heroine Jennifer -- b...</td>\n",
              "    </tr>\n",
              "    <tr>\n",
              "      <th>4</th>\n",
              "      <td>The Four Loves</td>\n",
              "      <td>Christian life</td>\n",
              "      <td>Lewis' work on the nature of love divides love...</td>\n",
              "    </tr>\n",
              "    <tr>\n",
              "      <th>...</th>\n",
              "      <td>...</td>\n",
              "      <td>...</td>\n",
              "      <td>...</td>\n",
              "    </tr>\n",
              "    <tr>\n",
              "      <th>71802</th>\n",
              "      <td>Like A Sister: A Novel</td>\n",
              "      <td>Fiction , Literary</td>\n",
              "      <td>Sister cannot say exactly when or where she wa...</td>\n",
              "    </tr>\n",
              "    <tr>\n",
              "      <th>71803</th>\n",
              "      <td>Creating Web Pages Simplified (3-D Visual Series)</td>\n",
              "      <td>Computers , Internet , General</td>\n",
              "      <td>An \"owner's manual\" for first-time Web page cr...</td>\n",
              "    </tr>\n",
              "    <tr>\n",
              "      <th>71804</th>\n",
              "      <td>EVA: The Real Key to Creating Wealth</td>\n",
              "      <td>Business &amp; Economics , Corporate Finance , Ge...</td>\n",
              "      <td>Called \"today's hottest financial idea and get...</td>\n",
              "    </tr>\n",
              "    <tr>\n",
              "      <th>71805</th>\n",
              "      <td>The Essentials of Spanish (REA's Language Seri...</td>\n",
              "      <td>Foreign Language Study , Spanish</td>\n",
              "      <td>REA’s Essentials provide quick and easy access...</td>\n",
              "    </tr>\n",
              "    <tr>\n",
              "      <th>71806</th>\n",
              "      <td>Your First Puppy (Your First Series)</td>\n",
              "      <td>Pets , Dogs , General</td>\n",
              "      <td>An introduction to the proper care of puppies ...</td>\n",
              "    </tr>\n",
              "  </tbody>\n",
              "</table>\n",
              "<p>71548 rows × 3 columns</p>\n",
              "</div>\n",
              "    <div class=\"colab-df-buttons\">\n",
              "\n",
              "  <div class=\"colab-df-container\">\n",
              "    <button class=\"colab-df-convert\" onclick=\"convertToInteractive('df-6e84fa9d-2496-4d37-818c-9f1aeffb53ba')\"\n",
              "            title=\"Convert this dataframe to an interactive table.\"\n",
              "            style=\"display:none;\">\n",
              "\n",
              "  <svg xmlns=\"http://www.w3.org/2000/svg\" height=\"24px\" viewBox=\"0 -960 960 960\">\n",
              "    <path d=\"M120-120v-720h720v720H120Zm60-500h600v-160H180v160Zm220 220h160v-160H400v160Zm0 220h160v-160H400v160ZM180-400h160v-160H180v160Zm440 0h160v-160H620v160ZM180-180h160v-160H180v160Zm440 0h160v-160H620v160Z\"/>\n",
              "  </svg>\n",
              "    </button>\n",
              "\n",
              "  <style>\n",
              "    .colab-df-container {\n",
              "      display:flex;\n",
              "      gap: 12px;\n",
              "    }\n",
              "\n",
              "    .colab-df-convert {\n",
              "      background-color: #E8F0FE;\n",
              "      border: none;\n",
              "      border-radius: 50%;\n",
              "      cursor: pointer;\n",
              "      display: none;\n",
              "      fill: #1967D2;\n",
              "      height: 32px;\n",
              "      padding: 0 0 0 0;\n",
              "      width: 32px;\n",
              "    }\n",
              "\n",
              "    .colab-df-convert:hover {\n",
              "      background-color: #E2EBFA;\n",
              "      box-shadow: 0px 1px 2px rgba(60, 64, 67, 0.3), 0px 1px 3px 1px rgba(60, 64, 67, 0.15);\n",
              "      fill: #174EA6;\n",
              "    }\n",
              "\n",
              "    .colab-df-buttons div {\n",
              "      margin-bottom: 4px;\n",
              "    }\n",
              "\n",
              "    [theme=dark] .colab-df-convert {\n",
              "      background-color: #3B4455;\n",
              "      fill: #D2E3FC;\n",
              "    }\n",
              "\n",
              "    [theme=dark] .colab-df-convert:hover {\n",
              "      background-color: #434B5C;\n",
              "      box-shadow: 0px 1px 3px 1px rgba(0, 0, 0, 0.15);\n",
              "      filter: drop-shadow(0px 1px 2px rgba(0, 0, 0, 0.3));\n",
              "      fill: #FFFFFF;\n",
              "    }\n",
              "  </style>\n",
              "\n",
              "    <script>\n",
              "      const buttonEl =\n",
              "        document.querySelector('#df-6e84fa9d-2496-4d37-818c-9f1aeffb53ba button.colab-df-convert');\n",
              "      buttonEl.style.display =\n",
              "        google.colab.kernel.accessAllowed ? 'block' : 'none';\n",
              "\n",
              "      async function convertToInteractive(key) {\n",
              "        const element = document.querySelector('#df-6e84fa9d-2496-4d37-818c-9f1aeffb53ba');\n",
              "        const dataTable =\n",
              "          await google.colab.kernel.invokeFunction('convertToInteractive',\n",
              "                                                    [key], {});\n",
              "        if (!dataTable) return;\n",
              "\n",
              "        const docLinkHtml = 'Like what you see? Visit the ' +\n",
              "          '<a target=\"_blank\" href=https://colab.research.google.com/notebooks/data_table.ipynb>data table notebook</a>'\n",
              "          + ' to learn more about interactive tables.';\n",
              "        element.innerHTML = '';\n",
              "        dataTable['output_type'] = 'display_data';\n",
              "        await google.colab.output.renderOutput(dataTable, element);\n",
              "        const docLink = document.createElement('div');\n",
              "        docLink.innerHTML = docLinkHtml;\n",
              "        element.appendChild(docLink);\n",
              "      }\n",
              "    </script>\n",
              "  </div>\n",
              "\n",
              "\n",
              "<div id=\"df-a99bf95c-cead-4aa1-a127-0b4d60d8002b\">\n",
              "  <button class=\"colab-df-quickchart\" onclick=\"quickchart('df-a99bf95c-cead-4aa1-a127-0b4d60d8002b')\"\n",
              "            title=\"Suggest charts\"\n",
              "            style=\"display:none;\">\n",
              "\n",
              "<svg xmlns=\"http://www.w3.org/2000/svg\" height=\"24px\"viewBox=\"0 0 24 24\"\n",
              "     width=\"24px\">\n",
              "    <g>\n",
              "        <path d=\"M19 3H5c-1.1 0-2 .9-2 2v14c0 1.1.9 2 2 2h14c1.1 0 2-.9 2-2V5c0-1.1-.9-2-2-2zM9 17H7v-7h2v7zm4 0h-2V7h2v10zm4 0h-2v-4h2v4z\"/>\n",
              "    </g>\n",
              "</svg>\n",
              "  </button>\n",
              "\n",
              "<style>\n",
              "  .colab-df-quickchart {\n",
              "      --bg-color: #E8F0FE;\n",
              "      --fill-color: #1967D2;\n",
              "      --hover-bg-color: #E2EBFA;\n",
              "      --hover-fill-color: #174EA6;\n",
              "      --disabled-fill-color: #AAA;\n",
              "      --disabled-bg-color: #DDD;\n",
              "  }\n",
              "\n",
              "  [theme=dark] .colab-df-quickchart {\n",
              "      --bg-color: #3B4455;\n",
              "      --fill-color: #D2E3FC;\n",
              "      --hover-bg-color: #434B5C;\n",
              "      --hover-fill-color: #FFFFFF;\n",
              "      --disabled-bg-color: #3B4455;\n",
              "      --disabled-fill-color: #666;\n",
              "  }\n",
              "\n",
              "  .colab-df-quickchart {\n",
              "    background-color: var(--bg-color);\n",
              "    border: none;\n",
              "    border-radius: 50%;\n",
              "    cursor: pointer;\n",
              "    display: none;\n",
              "    fill: var(--fill-color);\n",
              "    height: 32px;\n",
              "    padding: 0;\n",
              "    width: 32px;\n",
              "  }\n",
              "\n",
              "  .colab-df-quickchart:hover {\n",
              "    background-color: var(--hover-bg-color);\n",
              "    box-shadow: 0 1px 2px rgba(60, 64, 67, 0.3), 0 1px 3px 1px rgba(60, 64, 67, 0.15);\n",
              "    fill: var(--button-hover-fill-color);\n",
              "  }\n",
              "\n",
              "  .colab-df-quickchart-complete:disabled,\n",
              "  .colab-df-quickchart-complete:disabled:hover {\n",
              "    background-color: var(--disabled-bg-color);\n",
              "    fill: var(--disabled-fill-color);\n",
              "    box-shadow: none;\n",
              "  }\n",
              "\n",
              "  .colab-df-spinner {\n",
              "    border: 2px solid var(--fill-color);\n",
              "    border-color: transparent;\n",
              "    border-bottom-color: var(--fill-color);\n",
              "    animation:\n",
              "      spin 1s steps(1) infinite;\n",
              "  }\n",
              "\n",
              "  @keyframes spin {\n",
              "    0% {\n",
              "      border-color: transparent;\n",
              "      border-bottom-color: var(--fill-color);\n",
              "      border-left-color: var(--fill-color);\n",
              "    }\n",
              "    20% {\n",
              "      border-color: transparent;\n",
              "      border-left-color: var(--fill-color);\n",
              "      border-top-color: var(--fill-color);\n",
              "    }\n",
              "    30% {\n",
              "      border-color: transparent;\n",
              "      border-left-color: var(--fill-color);\n",
              "      border-top-color: var(--fill-color);\n",
              "      border-right-color: var(--fill-color);\n",
              "    }\n",
              "    40% {\n",
              "      border-color: transparent;\n",
              "      border-right-color: var(--fill-color);\n",
              "      border-top-color: var(--fill-color);\n",
              "    }\n",
              "    60% {\n",
              "      border-color: transparent;\n",
              "      border-right-color: var(--fill-color);\n",
              "    }\n",
              "    80% {\n",
              "      border-color: transparent;\n",
              "      border-right-color: var(--fill-color);\n",
              "      border-bottom-color: var(--fill-color);\n",
              "    }\n",
              "    90% {\n",
              "      border-color: transparent;\n",
              "      border-bottom-color: var(--fill-color);\n",
              "    }\n",
              "  }\n",
              "</style>\n",
              "\n",
              "  <script>\n",
              "    async function quickchart(key) {\n",
              "      const quickchartButtonEl =\n",
              "        document.querySelector('#' + key + ' button');\n",
              "      quickchartButtonEl.disabled = true;  // To prevent multiple clicks.\n",
              "      quickchartButtonEl.classList.add('colab-df-spinner');\n",
              "      try {\n",
              "        const charts = await google.colab.kernel.invokeFunction(\n",
              "            'suggestCharts', [key], {});\n",
              "      } catch (error) {\n",
              "        console.error('Error during call to suggestCharts:', error);\n",
              "      }\n",
              "      quickchartButtonEl.classList.remove('colab-df-spinner');\n",
              "      quickchartButtonEl.classList.add('colab-df-quickchart-complete');\n",
              "    }\n",
              "    (() => {\n",
              "      let quickchartButtonEl =\n",
              "        document.querySelector('#df-a99bf95c-cead-4aa1-a127-0b4d60d8002b button');\n",
              "      quickchartButtonEl.style.display =\n",
              "        google.colab.kernel.accessAllowed ? 'block' : 'none';\n",
              "    })();\n",
              "  </script>\n",
              "</div>\n",
              "\n",
              "  <div id=\"id_cfb8e890-4445-4937-98ae-e024828f9b79\">\n",
              "    <style>\n",
              "      .colab-df-generate {\n",
              "        background-color: #E8F0FE;\n",
              "        border: none;\n",
              "        border-radius: 50%;\n",
              "        cursor: pointer;\n",
              "        display: none;\n",
              "        fill: #1967D2;\n",
              "        height: 32px;\n",
              "        padding: 0 0 0 0;\n",
              "        width: 32px;\n",
              "      }\n",
              "\n",
              "      .colab-df-generate:hover {\n",
              "        background-color: #E2EBFA;\n",
              "        box-shadow: 0px 1px 2px rgba(60, 64, 67, 0.3), 0px 1px 3px 1px rgba(60, 64, 67, 0.15);\n",
              "        fill: #174EA6;\n",
              "      }\n",
              "\n",
              "      [theme=dark] .colab-df-generate {\n",
              "        background-color: #3B4455;\n",
              "        fill: #D2E3FC;\n",
              "      }\n",
              "\n",
              "      [theme=dark] .colab-df-generate:hover {\n",
              "        background-color: #434B5C;\n",
              "        box-shadow: 0px 1px 3px 1px rgba(0, 0, 0, 0.15);\n",
              "        filter: drop-shadow(0px 1px 2px rgba(0, 0, 0, 0.3));\n",
              "        fill: #FFFFFF;\n",
              "      }\n",
              "    </style>\n",
              "    <button class=\"colab-df-generate\" onclick=\"generateWithVariable('merged_df')\"\n",
              "            title=\"Generate code using this dataframe.\"\n",
              "            style=\"display:none;\">\n",
              "\n",
              "  <svg xmlns=\"http://www.w3.org/2000/svg\" height=\"24px\"viewBox=\"0 0 24 24\"\n",
              "       width=\"24px\">\n",
              "    <path d=\"M7,19H8.4L18.45,9,17,7.55,7,17.6ZM5,21V16.75L18.45,3.32a2,2,0,0,1,2.83,0l1.4,1.43a1.91,1.91,0,0,1,.58,1.4,1.91,1.91,0,0,1-.58,1.4L9.25,21ZM18.45,9,17,7.55Zm-12,3A5.31,5.31,0,0,0,4.9,8.1,5.31,5.31,0,0,0,1,6.5,5.31,5.31,0,0,0,4.9,4.9,5.31,5.31,0,0,0,6.5,1,5.31,5.31,0,0,0,8.1,4.9,5.31,5.31,0,0,0,12,6.5,5.46,5.46,0,0,0,6.5,12Z\"/>\n",
              "  </svg>\n",
              "    </button>\n",
              "    <script>\n",
              "      (() => {\n",
              "      const buttonEl =\n",
              "        document.querySelector('#id_cfb8e890-4445-4937-98ae-e024828f9b79 button.colab-df-generate');\n",
              "      buttonEl.style.display =\n",
              "        google.colab.kernel.accessAllowed ? 'block' : 'none';\n",
              "\n",
              "      buttonEl.onclick = () => {\n",
              "        google.colab.notebook.generateWithVariable('merged_df');\n",
              "      }\n",
              "      })();\n",
              "    </script>\n",
              "  </div>\n",
              "\n",
              "    </div>\n",
              "  </div>\n"
            ],
            "application/vnd.google.colaboratory.intrinsic+json": {
              "type": "dataframe",
              "variable_name": "merged_df",
              "summary": "{\n  \"name\": \"merged_df\",\n  \"rows\": 71548,\n  \"fields\": [\n    {\n      \"column\": \"title\",\n      \"properties\": {\n        \"dtype\": \"string\",\n        \"num_unique_values\": 67467,\n        \"samples\": [\n          \"Eubie Blake\",\n          \"The Best of Food Digest (Reader's Digest)\",\n          \"Darth Bane\"\n        ],\n        \"semantic_type\": \"\",\n        \"description\": \"\"\n      }\n    },\n    {\n      \"column\": \"categories\",\n      \"properties\": {\n        \"dtype\": \"category\",\n        \"num_unique_values\": 3515,\n        \"samples\": [\n          \" Children's Music\",\n          \"Juvenile Nonfiction\",\n          \"Behavior\"\n        ],\n        \"semantic_type\": \"\",\n        \"description\": \"\"\n      }\n    },\n    {\n      \"column\": \"description\",\n      \"properties\": {\n        \"dtype\": \"string\",\n        \"num_unique_values\": 70416,\n        \"samples\": [\n          \"Children don\\u2019t come with instructions! It has never been more challenging to be a parent -- or more hazardous to be a child. In Five Needs Your Child Must Have Met at Home, Ron Hutchcraft presents a practical roadmap for how to raise stable children in an unstable world. No matter how far you are on the parenting road, Hutchcraft can show you how to make the most of the days you have left with your children. Five Needs Your Child Must Have Met at Home details the five critical needs of every child: the need for a secure self, honest sexual answers, satisfying love, stable authority, and spiritual reality. You'll learn: how to identify and affirm your children's strengths, how to look beyond you children's deeds to meet their needs, and how to raise children of integrity.\",\n          \"A writer renowned for his insight into the mysteries of the body now gives us a lambent and profoundly moving book about the mysteries of family. At its center lies Sherwin Nuland\\u2019s Rembrandtesque portrait of his father, Meyer Nudelman, a Jewish garment  worker who came to America in the early years of the last century but remained an eternal outsider. Awkward in speech and movement, broken by the premature deaths of a wife and child, Meyer ruled his youngest son with a regime of rage, dependency, and helpless love that outlasted his death. In evoking their relationship, Nuland also summons up the warmth and claustrophobia of a vanished immigrant New York, a world that impelled its children toward success yet made them feel like traitors for leaving it behind. Full of feeling and unwavering observation, Lost in America deserves a place alongside such classics as Patrimony and Call It Sleep.\",\n          \"Provides a wealth of information on the sport of hiking, lists 387 hiking areas state-by-state, and rates the major trails according to terrain, visual beauty, and degree of difficulty\"\n        ],\n        \"semantic_type\": \"\",\n        \"description\": \"\"\n      }\n    }\n  ]\n}"
            }
          },
          "metadata": {},
          "execution_count": 5
        }
      ]
    },
    {
      "cell_type": "code",
      "execution_count": null,
      "metadata": {
        "colab": {
          "base_uri": "https://localhost:8080/"
        },
        "id": "1l7DKhaMBj05",
        "outputId": "4279fa9d-af3f-44e7-d8f6-420614dfda7b"
      },
      "outputs": [
        {
          "output_type": "execute_result",
          "data": {
            "text/plain": [
              "(71548, 3)"
            ]
          },
          "metadata": {},
          "execution_count": 36
        }
      ],
      "source": [
        "merged_df.shape"
      ]
    },
    {
      "cell_type": "code",
      "execution_count": null,
      "metadata": {
        "id": "H3LdoMu2CGB8"
      },
      "outputs": [],
      "source": [
        "descriptions = merged_df[\"description\"].tolist()\n",
        "titles = merged_df[\"title\"].tolist()\n",
        "categories = merged_df[\"categories\"].tolist()\n"
      ]
    },
    {
      "cell_type": "code",
      "execution_count": null,
      "metadata": {
        "id": "Sib1ij-ECMfq"
      },
      "outputs": [],
      "source": [
        "book_lookup = dict()\n",
        "\n",
        "for t, d, c in zip(titles, descriptions, categories):\n",
        "    book_lookup[d] = {\"title\": t, \"descriptions\": d, \"categories\": c,}"
      ]
    },
    {
      "cell_type": "markdown",
      "source": [],
      "metadata": {
        "id": "RCBKto1FG4Tb"
      }
    },
    {
      "cell_type": "code",
      "execution_count": null,
      "metadata": {
        "id": "PgqrTzcYDQle"
      },
      "outputs": [],
      "source": [
        "from sentence_transformers import SentenceTransformer\n",
        "\n",
        "model = SentenceTransformer(\"all-MiniLM-L6-v2\")"
      ]
    },
    {
      "cell_type": "code",
      "execution_count": null,
      "metadata": {
        "id": "2c_df3gyDeOD"
      },
      "outputs": [],
      "source": [
        "desc_embedding = model.encode(descriptions)"
      ]
    },
    {
      "cell_type": "code",
      "execution_count": null,
      "metadata": {
        "id": "iQkzBI4bFqur"
      },
      "outputs": [],
      "source": [
        "title_embedding = model.encode(titles)"
      ]
    },
    {
      "cell_type": "code",
      "execution_count": null,
      "metadata": {
        "id": "Ra-pDP-AFr9X"
      },
      "outputs": [],
      "source": [
        "cate_embedding = model.encode(categories)"
      ]
    },
    {
      "cell_type": "code",
      "execution_count": null,
      "metadata": {
        "id": "RtW3kLNqEa0J"
      },
      "outputs": [],
      "source": [
        "for i in range(len(descriptions)):\n",
        "    if not isinstance(descriptions[i], str):\n",
        "        print(f\"Phần tử '{descriptions[i]}' ở vị trí {i} không phải là string.\")\n"
      ]
    },
    {
      "cell_type": "code",
      "execution_count": null,
      "metadata": {
        "id": "12ATkJmgFMJQ"
      },
      "outputs": [],
      "source": [
        "import math\n",
        "\n",
        "for i in range(len(categories)):\n",
        "    if isinstance(categories[i], float) and math.isnan(categories[i]):\n",
        "        categories[i] = \"\"\n",
        "for i in range(len(descriptions)):\n",
        "    if isinstance(descriptions[i], float) and math.isnan(descriptions[i]):\n",
        "        descriptions[i] = \"\"\n",
        "for i in range(len(thumbnails)):\n",
        "    if isinstance(thumbnails[i], float) and math.isnan(thumbnails[i]):\n",
        "        thumbnails[i] = \"\"\n",
        "\n"
      ]
    },
    {
      "cell_type": "code",
      "execution_count": null,
      "metadata": {
        "colab": {
          "base_uri": "https://localhost:8080/"
        },
        "id": "7-6lAawDmOrP",
        "outputId": "2d43250d-eb20-4c7d-8298-3e6a0834210a"
      },
      "outputs": [
        {
          "output_type": "execute_result",
          "data": {
            "text/plain": [
              "(1, 384)"
            ]
          },
          "metadata": {},
          "execution_count": 43
        }
      ],
      "source": [
        "query = \"Science and Physics\"\n",
        "query_embedding = model.encode([query])\n",
        "query_embedding.shape"
      ]
    },
    {
      "cell_type": "code",
      "execution_count": null,
      "metadata": {
        "colab": {
          "base_uri": "https://localhost:8080/"
        },
        "id": "Og7bhBohmw3f",
        "outputId": "1fe19482-11bb-409e-9156-766a0f4739fa"
      },
      "outputs": [
        {
          "output_type": "execute_result",
          "data": {
            "text/plain": [
              "torch.Size([1, 6511])"
            ]
          },
          "metadata": {},
          "execution_count": 44
        }
      ],
      "source": [
        "similarity = model.similarity(query_embedding, desc_embedding)\n",
        "similarity\n",
        "similarity.shape"
      ]
    },
    {
      "cell_type": "code",
      "execution_count": null,
      "metadata": {
        "colab": {
          "base_uri": "https://localhost:8080/"
        },
        "id": "yJLa6y76oYbm",
        "outputId": "26f0bf01-9443-449a-db42-f59b9f79b5c4"
      },
      "outputs": [
        {
          "output_type": "execute_result",
          "data": {
            "text/plain": [
              "6511"
            ]
          },
          "metadata": {},
          "execution_count": 45
        }
      ],
      "source": [
        "similarity_list = similarity.tolist()[0]\n",
        "len(similarity_list)"
      ]
    },
    {
      "cell_type": "code",
      "execution_count": null,
      "metadata": {
        "colab": {
          "base_uri": "https://localhost:8080/"
        },
        "id": "o6iwtnwInG2N",
        "outputId": "19301a1d-e592-4eb8-ccd1-d6ce1be21cd9"
      },
      "outputs": [
        {
          "output_type": "execute_result",
          "data": {
            "text/plain": [
              "3583"
            ]
          },
          "metadata": {},
          "execution_count": 46
        }
      ],
      "source": [
        "max_index = similarity_list.index(max(similarity_list))\n",
        "max_index"
      ]
    },
    {
      "cell_type": "code",
      "execution_count": null,
      "metadata": {
        "colab": {
          "base_uri": "https://localhost:8080/"
        },
        "id": "BNbVP0XjqVwf",
        "outputId": "23454630-7baa-4bcd-b0bf-374effcfbb61"
      },
      "outputs": [
        {
          "output_type": "stream",
          "name": "stdout",
          "text": [
            "<class 'list'>\n",
            "<class 'list'>\n"
          ]
        }
      ],
      "source": [
        "description_found = descriptions[max_index]\n",
        "description_found\n",
        "book_lookup[description_found]\n",
        "\n",
        "print(type(categories))\n",
        "print(type(descriptions))"
      ]
    },
    {
      "cell_type": "code",
      "execution_count": null,
      "metadata": {
        "colab": {
          "base_uri": "https://localhost:8080/",
          "height": 141
        },
        "id": "iYKqZE78wXdP",
        "outputId": "55bb814c-4483-48a2-fb03-48a73fee7596"
      },
      "outputs": [
        {
          "output_type": "error",
          "ename": "NameError",
          "evalue": "name 'description_found' is not defined",
          "traceback": [
            "\u001b[0;31m---------------------------------------------------------------------------\u001b[0m",
            "\u001b[0;31mNameError\u001b[0m                                 Traceback (most recent call last)",
            "\u001b[0;32m<ipython-input-13-ec9835001ac2>\u001b[0m in \u001b[0;36m<cell line: 0>\u001b[0;34m()\u001b[0m\n\u001b[0;32m----> 1\u001b[0;31m \u001b[0mbook_lookup\u001b[0m\u001b[0;34m[\u001b[0m\u001b[0mdescription_found\u001b[0m\u001b[0;34m]\u001b[0m\u001b[0;34m[\u001b[0m\u001b[0;34m\"scores\"\u001b[0m\u001b[0;34m]\u001b[0m\u001b[0;34m\u001b[0m\u001b[0;34m\u001b[0m\u001b[0m\n\u001b[0m",
            "\u001b[0;31mNameError\u001b[0m: name 'description_found' is not defined"
          ]
        }
      ],
      "source": [
        "book_lookup[description_found][\"scores\"]"
      ]
    },
    {
      "cell_type": "code",
      "execution_count": null,
      "metadata": {
        "colab": {
          "base_uri": "https://localhost:8080/"
        },
        "id": "lrnulvfR92x1",
        "outputId": "8e82537e-eb4e-4041-9272-27459e4af6c8"
      },
      "outputs": [
        {
          "output_type": "stream",
          "name": "stdout",
          "text": [
            "Collecting translate\n",
            "  Downloading translate-3.6.1-py2.py3-none-any.whl.metadata (7.7 kB)\n",
            "Requirement already satisfied: click in /usr/local/lib/python3.11/dist-packages (from translate) (8.1.8)\n",
            "Requirement already satisfied: lxml in /usr/local/lib/python3.11/dist-packages (from translate) (5.3.1)\n",
            "Requirement already satisfied: requests in /usr/local/lib/python3.11/dist-packages (from translate) (2.32.3)\n",
            "Collecting libretranslatepy==2.1.1 (from translate)\n",
            "  Downloading libretranslatepy-2.1.1-py3-none-any.whl.metadata (233 bytes)\n",
            "Requirement already satisfied: charset-normalizer<4,>=2 in /usr/local/lib/python3.11/dist-packages (from requests->translate) (3.4.1)\n",
            "Requirement already satisfied: idna<4,>=2.5 in /usr/local/lib/python3.11/dist-packages (from requests->translate) (3.10)\n",
            "Requirement already satisfied: urllib3<3,>=1.21.1 in /usr/local/lib/python3.11/dist-packages (from requests->translate) (2.3.0)\n",
            "Requirement already satisfied: certifi>=2017.4.17 in /usr/local/lib/python3.11/dist-packages (from requests->translate) (2025.1.31)\n",
            "Downloading translate-3.6.1-py2.py3-none-any.whl (12 kB)\n",
            "Downloading libretranslatepy-2.1.1-py3-none-any.whl (3.2 kB)\n",
            "Installing collected packages: libretranslatepy, translate\n",
            "Successfully installed libretranslatepy-2.1.1 translate-3.6.1\n"
          ]
        }
      ],
      "source": [
        "!pip install translate\n"
      ]
    },
    {
      "cell_type": "code",
      "execution_count": null,
      "metadata": {
        "id": "N4k_bbmynma_",
        "colab": {
          "base_uri": "https://localhost:8080/"
        },
        "outputId": "36783e05-8490-4fd3-8b20-e99fda6ae240"
      },
      "outputs": [
        {
          "output_type": "stream",
          "name": "stdout",
          "text": [
            "Top similarity values: [0.6410356760025024, 0.609894871711731, 0.5993571877479553, 0.5883978009223938, 0.5708088874816895, 0.5587263703346252, 0.5508195161819458, 0.5468975305557251, 0.5405164361000061, 0.5402789115905762, 0.5395799279212952, 0.5394209623336792, 0.5310646295547485, 0.5218228101730347, 0.5179507732391357, 0.5166161060333252, 0.5115123391151428, 0.5064731240272522, 0.5053604245185852, 0.5035669803619385, 0.5032877922058105, 0.5030659437179565, 0.50243079662323, 0.5003747940063477, 0.49979522824287415, 0.49979516863822937, 0.49890565872192383, 0.49709415435791016, 0.49509403109550476, 0.4931718409061432, 0.4931507706642151, 0.49295294284820557, 0.49270856380462646, 0.490306556224823, 0.49007612466812134, 0.4892842769622803, 0.4852136969566345, 0.4850846529006958, 0.4849168062210083, 0.4828272759914398, 0.48245978355407715, 0.48237544298171997, 0.482283353805542, 0.4817880392074585, 0.4787074029445648, 0.47808346152305603, 0.47710075974464417, 0.4747895300388336, 0.4747828245162964, 0.4743994474411011, 0.47384679317474365, 0.4733870029449463, 0.47261369228363037, 0.4725632071495056, 0.47204336524009705, 0.4720432758331299, 0.47187381982803345, 0.4710882902145386, 0.4692099690437317, 0.46793895959854126, 0.46789878606796265, 0.46431389451026917, 0.46184802055358887, 0.461777925491333, 0.46153247356414795, 0.46065032482147217, 0.45627865195274353, 0.45614704489707947, 0.4559542238712311, 0.4550175368785858, 0.45416417717933655, 0.45335352420806885, 0.45231232047080994, 0.45120012760162354, 0.4506123661994934, 0.44975998997688293, 0.4493674337863922, 0.4488482177257538, 0.4488404393196106, 0.44733574986457825, 0.44595959782600403, 0.4443204700946808, 0.44384586811065674, 0.44281405210494995, 0.44201400876045227, 0.44197821617126465, 0.44154059886932373, 0.44097423553466797, 0.4400954842567444, 0.4394325017929077, 0.43842488527297974, 0.43792885541915894, 0.4376358985900879, 0.43742042779922485, 0.4372166097164154, 0.43659067153930664, 0.4358384311199188, 0.4356849193572998, 0.43558573722839355, 0.43555259704589844]\n"
          ]
        },
        {
          "output_type": "execute_result",
          "data": {
            "text/plain": [
              "[('Physics Made Simple',\n",
              "  ' Science , Physics , General',\n",
              "  'Contains practical information, experiments and exercises to reinforce the meaning of the basic principles of physics'),\n",
              " ('333 Science Tricks and Experiments',\n",
              "  ' Juvenile Nonfiction , General',\n",
              "  'Suggests experiments which demonstrate facts about inertia, momentum, sound, optical illusions, biology, gravity, electricity, magnetism, and psychology'),\n",
              " ('101 Things Everyone Should Know About Science',\n",
              "  ' Juvenile Nonfiction , Science & Nature , General',\n",
              "  'Why do you see lightning before you hear thunder? What keeps the planets orbiting around the sun? What metal is a liquid at room temperature? Science affects everything -- yet so many of us wish we understood it better. Using an accessible question-and-answer approach, key concepts in biology, chemistry, physics, earth and general science are explored and demystified in this award-winning book. An engaging and fun way to better your understanding of how science surrounds us every day.'),\n",
              " ('Physics For the Rest of Us',\n",
              "  ' Science , Physics',\n",
              "  'Ten basic ideas of 20th-century physics that everyone should know... and how they have shaped our culture and consciousness.'),\n",
              " ('How Science Works',\n",
              "  ' Juvenile Nonfiction , Science & Nature , General',\n",
              "  'Suggests simple experiments that demonstrate facts about chemical reactions, energy, motion, light, sound, air, water, magnetism, electricity, electronics, and computers'),\n",
              " (\"How the World Works: A Guide to Science's Greatest Discoveries\",\n",
              "  ' Science , General',\n",
              "  'Provides concise explanations of scientific concepts, principles, practices, theories, and discoveries and discusses the careers of important scientists'),\n",
              " ('Everyday Science Explained',\n",
              "  ' Science , General',\n",
              "  'With hundreds of photographs, with specially commissioned illustrations, and with great good humor, Everyday Science Explained takes on the hows and whys of the science that shapes our daily lives. The first two chapters transform the often intimidating field of physics into a true joyride. Chapter three does the same for chemistry, while the final chapter explores the wonders of human biology and biochemistry. Throughout, in design as well as in content, this book is highly user-friendly. While it can be read cover to cover, it also lends itself readily to nonlinear browsing.'),\n",
              " ('Unweaving the Rainbow',\n",
              "  'Science',\n",
              "  'Offers an assessment of what science is, how it feeds the human appetite for wonder, and how \"unweaving\" the mysteries of science can be even more beautiful than the mystery itself.'),\n",
              " ('Taking the Quantum Leap: The New Physics for Nonscientists',\n",
              "  ' Science , Physics , General',\n",
              "  'This book entertainingly traces the history of physics from the observations of the earlyGreeks through the discoveries of Galileo and Newton to the dazzling theories of such scientists as Planck, Einstein, Bohr, and Bohm. This humanized view of science opens up the mind-stretching visions of how quantum mechanics, God, human thought, and will are related, and provides profound implications for our understanding of the nature of reality and our relationship to the cosmos.'),\n",
              " ('Trivia Mania: Science and Nature',\n",
              "  ' Games , Trivia',\n",
              "  'Offers a thousand questions and answers about medicine, biology, chemistry, geology, astronomy, computer science, and physics'),\n",
              " ('The Usborne Internet-Linked First Encyclopedia of Science',\n",
              "  ' Juvenile Nonfiction , Science & Nature , General',\n",
              "  'Introduces major topics in the sciences, and suggests related activities.'),\n",
              " ('How to Dunk a Doughnut: The Science of Everyday Life',\n",
              "  ' Science , Physics , General',\n",
              "  'Praised as ?the man who put the fun into physics? by the International Herald Tribune, Dr. Len Fisher has written an exceedingly lively and entertaining book on the science of everyday life. Following the routine of a normal day, Fisher shows how the seemingly mundane can provide insight into the most profound scientific questions. He explores the art and science of dunking, how to boil the perfect egg, how to tally a supermarket bill, the science behind hand tools, the secrets of haute cuisine, catching a ball and throwing a boomerang, bath (or beer) foam, the physics of sex and much more. With wit and aplomb, How to Dunk a Doughnut uses easy-to-digest concepts and a sense of humor to show nonscientists what science is really all about.'),\n",
              " ('Rainbows, Snowflakes, and Quarks: Physics and the World Around Us',\n",
              "  ' Science , General',\n",
              "  'Discusses the principles of physics at work in a variety of everyday occurrences including whirlpools, lightening, waves, warmth, and motion'),\n",
              " ('1001 Things Everyone Should Know About Science',\n",
              "  ' Science , General',\n",
              "  'A crash course for a general audience, comprising literally 1,001 concise explanations of scientific phenomena in seven topical categories: classical biology, evolution, molecular biology, classical physical science, modern physical science, earth science, and astronomy. Includes 100 drawings and photos. Annotation copyright Book News, Inc. Portland, Or.'),\n",
              " ('The New Physics',\n",
              "  ' Science , Physics',\n",
              "  'Physics affects the way we live and, ultimately, how life itself functions. This new take on a classic text investigates key frontiers in modern physics. Exploring our universe, from the particles within atoms to the stars making up galaxies, it reveals the vital role invisible mechanisms play in the world around us, and explains new techniques, from nano-engineering and brain research to the latest advances in high-speed data networks and custom-built materials. Written by leading international experts, each of the nineteen chapters will fascinate scientists in all disciplines, as well as anyone wanting to know more about the world of physics.    First Edition Hb (1989) 0-521-30420-2    First Edition Pb (1992) 0-521-43831-4'),\n",
              " ('50 Physics Ideas You Really Need to Know (50 ideas)',\n",
              "  ' Science , Physics , General',\n",
              "  'As well as outlining and explaining such historic breakthroughs in human understanding of the physical world as Kepler’s law of planetary motion and Newton’s law of gravitation, Joanne Baker unravels the sometimes baffling complexities of modern scientific theory ? from Planck’s law to Pauli’s exclusion principle and from Schrondinger’s cat to string theory.  The essays are accompanied by a range of useful editorial features, including biographies of iconic physicists, timelines of related ideas, explanatory diagrams and display quotations.'),\n",
              " (\"The Complete Idiot's Guide to Physics, 2nd Edition\",\n",
              "  ' Science , Physics , General',\n",
              "  'This guide is a force to be reckoned with ?  As an easy, approachable companion to an oft-dreaded subject, this guide is intended for high school and college students who are required to take physics. Offering easy-to-understand instruction, it follows a standard non-calculus-based physics curriculum. ? Clearer, more approachable, solved practice problems plus revised text and figures ? Author and physics teacher Johnnie Dennis won the National Teacher of the Year award, the nation?s oldest and most prestigious honor for high school teachers ? In any given year, research shows that between 420,000 and 2.5 million college students have to take at least one physics course to earn their degree'),\n",
              " ('Notebook Reference Science Fact Book: Second Edition',\n",
              "  ' Juvenile Nonfiction , Science & Nature , General',\n",
              "  'The Notebook Reference Science Fact Book offers students everything they need for success in science right at their fingertips! From scientific terms to the scientific method, this convenient, 144 page fact book is filled with information, illustrations, definitions, and charts that students can use to review key topics and concepts. The topics covered include life, earth, and physical science, as well as investigation and experimentation. An essential section of science fair basics is also easily located to help guide them through the process of selecting a topic to making a presentation. The 3-hole punched format allows students to carry this book in a 3-ring binder for quick reference at school, at home, or on the go!'),\n",
              " (\"Schaum's Outline of Theory and Problems of Physics for Engineering and Science (Schaum's Outlines)\",\n",
              "  ' Science , General',\n",
              "  'Sample problems and their solutions accompany a discussion of the principles of physics necessary for the study of engineering and the physical sciences'),\n",
              " ('Science 101: Physics',\n",
              "  ' Science , Physics , Astrophysics',\n",
              "  'This new series will explain major areas of science in an interesting, visually compelling, and accessible manner. The \"101\" in the title refers not only to an introductory course but also to the 101 key facts and topics presented in each book. These books will fill the need for popular reference on all aspects of science and technology.'),\n",
              " ('Instant Physics: From Aristotle to Einstein, and Beyond',\n",
              "  ' Reference , Research',\n",
              "  'For all of you who break out in a sweat at the thought of thermodynamics, or freeze up at the mention of quantum mechanics, like a bolt from the blue, INSTANT PHYSICS will zap you through the fascinating history of our most basic, yet baffling, science.From the thousand-year search for proof of the existence of the ever-elusive atom to the varied and heated arguments behind the big bang theory, INSTANT PHYSICS answers all the heavy questions with a light touch. You\\'ll learn:* How the Greek philosophers used the sledgehammer of mathematics to break apart the mysteries of the physical universe.* Why gravity is a \"romantic\" force.* How to tell the difference between a gluon, a meson, and a quark, even if you can\\'t see them.INSTANT PHYSICS is crammed with special features, including chapter summaries, who\\'s who lists, biographical and historical tidbits, and a host of illustrations, photos, equations, diagrams, and drawings.'),\n",
              " ('Building Structures with Young Children (The Young Scientist Series)',\n",
              "  ' Education , Teaching Methods & Materials , Science & Technology',\n",
              "  'From playground equipment to skyscrapers, structures are everywhere. The second unit in the Young Scientist series, Building Structures with Young Children guides children’s explorations to help deepen their understanding of the physical science present in building block structures—including concepts such as gravity, stability, and balance. Looking at science in a new way, this nationally field-tested curriculum supports the early development of important science inquiry skills such as questioning, investigating, discussing, and formulating ideas and theories.'),\n",
              " ('The Golem: What Everyone Should Know about Science (Canto original series)',\n",
              "  ' Science , General',\n",
              "  \"Science, it would seem, is neither all good nor all bad. It gives us nuclear accidents and cures for disease, agricultural self-sufficiency and death in space flight. Harry Collins and Trevor Pinch liken science to the Golem, a creature from Jewish mythology, powerful yet potentially dangerous, a gentle, helpful creature that may yet run amok at any moment. Through a series of intriguing case studies of famous and not-so-famous scientific episodes, ranging from relativity and cold fusion to memory in worms and the sex lives of lizards, the authors debunk the idea that science is the straightforward result of competent theorisation, observation and experimentation. Closer to the truth, they suggest, is the realisation that scientific certainty comes from interpreting ambiguous results within an order imposed by scientists themselves. This thought-provoking account will give general readers a new perspective on the place of science in society.  '... perverse but entertaining ... the writing is deft, the stories are good and there is not a boring page.' Nature '... a must for every science student.' Science Reporter\"),\n",
              " ('E',\n",
              "  'Science',\n",
              "  \"Examines the science and scientists who provided the backdrop to Einstein's influential 1905 discovery and offers an explanation of the equation from mathematical, historical, and scientific perspectives.\"),\n",
              " ('Science Matters',\n",
              "  ' Science , General',\n",
              "  'Explains the basic scientific principles that govern our world, and shows how they manifest themselves in our everyday lives'),\n",
              " ('Science Matters',\n",
              "  ' Science , General',\n",
              "  'Explains the basic scientific principles that govern our world, and shows how they manifest themselves in our everyday lives'),\n",
              " ('The Physics of Superheroes',\n",
              "  ' Literary Criticism , Comics & Graphic Novels',\n",
              "  'James Kakalios explores the scientific plausibility of the powers and feats of the most famous superheroes — and discovers that in many cases the comic writers got their science surprisingly right. Along the way he provides an engaging and witty commentary while introducing the lay reader to both classic and cutting-edge concepts in physics, including: What Superman’s strength can tell us about the Newtonian physics of force, mass, and acceleration  How Iceman’s and Storm’s powers illustrate the principles of thermal dynamics  The physics behind the death of Spider-Man’s girlfriend Gwen Stacy  Why physics professors gone bad are the most dangerous evil geniuses!'),\n",
              " ('Science Wizardry for Kids',\n",
              "  ' Juvenile Nonfiction , Science & Nature , Experiments & Projects',\n",
              "  'More than 200 safe, fun, easy-to-perform experiements teach kids basic concepts of physics and chemistry. Experiments deal with the environment, with fooling the senses, and magic tricks with colors and light. Amusing illustrations throughout.'),\n",
              " ('The Pleasure of Finding Things Out: The Best Short Works of Richard P. Feynman',\n",
              "  ' Science , Physics , General',\n",
              "  'The Pleasure of Finding Things Outis a magnificent treasury of the best short works of Richard Feynman—from interviews and speeches to lectures and printed articles. A sweeping, wide-ranging collection, it presents an intimate and fascinating view of a life in science-a life like no other. From his ruminations on science in our culture to his Nobel Prize acceptance speech, this book will fascinate anyone interested in the world of ideas.'),\n",
              " ('Science Class You Wish You Had...: The Seven Greatest Scientific Discoveries in History and the People Who Made Them',\n",
              "  ' Science , Research & Methodology',\n",
              "  'Looks at gravity, the structure of the atom, relativity, the Big Bang, evolution, genetics, and DNA'),\n",
              " ('Interactions: A Journey Through the Mind of a Particle Physicist and the Matter of This World',\n",
              "  ' Science , General',\n",
              "  'A Nobel-laureate physicist describes his development as a scientist, and comments on the political and competitive aspects of the scientific community'),\n",
              " ('The Web of Life: A New Scientific Understanding of Living Systems',\n",
              "  ' Science , Life Sciences , Biology',\n",
              "  'The author of the best-selling The Tao of Physics presents an innovative view of the interrelationships of psychological, biological, and social phenomena, synthesizing the latest alternative theories of evolution and physics. 50,000 first printing. $50,000 ad/promo. Tour.'),\n",
              " ('Triumph of the Darksword', 'Fiction', 'Science fiction.'),\n",
              " ('Nova: Adventures in Science',\n",
              "  ' Science , General',\n",
              "  'Examines topics in science and technology including the origins and development of life and the universe, space exploration, and breakthroughs in biology and medicine'),\n",
              " ('Two Faces of Time (Quest Book)',\n",
              "  ' Philosophy , Metaphysics',\n",
              "  'A research professor of nuclear physics explores the mysterious essence of time in its two aspects---one of accurate measurement, the other of human sensation---as it is found in the concepts of modern physics and major religions.'),\n",
              " ('The Handy Science Answer Book (The Handy Answer Book Series)',\n",
              "  ' Science , Reference',\n",
              "  'Presenting a fun and educational way to explore the wonders of the world of science this guide collects more than 1,300 the most commonly asked and interesting questions in a succinct, fun, and educational manner. Children and adults alike will enjoy uncovering some of life’s greatest mysteries, including how does a fax machine works, which color car is the safest, the difference between male and female lobsters, and what city have the record for most snowfall. With straightforward writing, more than 100 photographs, and dozens of graphs and tables, this guidebook is the perfect reference for solving the mysteries of science.'),\n",
              " ('The Scientific Attitude: Second Edition (The Conduct of Science Series)',\n",
              "  ' Science , Philosophy & Social Aspects',\n",
              "  \"THE SCIENTIFIC ATTITUDE presents a systematic account of the cognitive and social features of science.  Written by an experimental biologist actively engaged in research, the work is unique in its attempt to understand science in terms of day-to-day practice.  The book goes beyond the traditional description of science that focuses on method and logic to characterize the scientific attitude as a way of looking at the world.Professor Grinnell uses examples from biomedical research to describe science at three interdependent levels.  At the first level, the individual scientist makes observations, formulates hypotheses, and does experiments.  The scientist's thought style determines what can be seen and what it will appear to mean.  At the second level, scientists participate in social institutions such as graduate programs, research groups, journal editorial boards, and grant review panels.  Each of these institutions tries to promote its own distinctive collective thought style.  Finally, at the third level, scientists participate in the world of everyday life beyond science, a world that continuously influences and is influenced by the activities and discoveries of science.\"),\n",
              " ('Mind over Matter: Conversations With the Cosmos',\n",
              "  ' Science , Physics , General',\n",
              "  \"K. C. Cole, the Los Angeles Times science writer and columnist, always has a fresh take on cutting-edge scientific discoveries, which she makes both understandable and very human. Reporting on physics, cosmology, mathematics, astronomy, and more, Cole's essays, culled from her popular Mind Over Matter columns, reveal the universe as simple, constant, and complex--and wholly relevant to politics, art, and every dimension of human life.\"),\n",
              " ('Perfectly Reasonable Deviations from the Beaten Track',\n",
              "  'Biography & Autobiography',\n",
              "  'A collection of the correspondence of the maverick physicist, Nobel laureate, and author offers an insightful and intimate glimpse into the mind and life of a scientific luminary.'),\n",
              " ('Arco 1001 Ideas For Science Projects Environment: Third Edition',\n",
              "  ' Study Aids , General',\n",
              "  'Presents ideas for projects and reports in astronomy, biology, chemistry, physics, and other scientific fields, and includes tips on choosing and researching a topic and a key to the difficulty level and special requirements of each project'),\n",
              " ('E=mc2',\n",
              "  'Science',\n",
              "  'Generations have grown up knowing that the equation E=mc2 changed the shape of our world, but never understanding what it actually means, why it was so significant, and how it informs our daily lives today—governing, as it does, everything from the atomic bomb to a television\\'s cathode ray tube to the carbon dating of prehistoric paintings. In this book, David Bodanis writes the \"biography\" of one of the greatest scientific discoveries in history—that the realms of energy and matter are inescapably linked—and, through his skill as a writer and teacher, he turns a seemingly impenetrable theory into a dramatic human achievement and an uncommonly good story.'),\n",
              " ('Ultimate Visual Dictionary of Science',\n",
              "  ' Juvenile Nonfiction , Science & Nature , General',\n",
              "  '\"In the tradition of this publisher\\'s other visual dictionaries, this volume is crammed full of clear, easily understandable, full-color illustrations and charts explaining various scientific concepts and phenomena. Brief textual descriptions of most concepts accompany the illustrations. The arrangement is by broad disciplines, and coverage includes chemistry, physics, medicine, the life sciences, astronomy, earth science, electronics, computer science, and much more. This wonderfully informative and inexpensive volume will be useful for all audiences from middle school to adult\".--\"Outstanding Reference Sources : the 1999 Selection of New Titles\", American Libraries, May 1999. Comp. by the Reference Sources Committee, RUSA, ALA.'),\n",
              " ('The Ring of Truth: An Inquiry into How We Know What We Know',\n",
              "  ' Science , General',\n",
              "  \"Explores the process of scientific investigation and the scientist's efforts to understand the natural world\"),\n",
              " (\"Schaum's Outline of Theory and Problems of College Physics (Schaum's Outline Series)\",\n",
              "  ' Science , Physics',\n",
              "  'Clearly stated definitions, principles, and theorems pertaining to mechanics, heat, magnetism, electricity, wave motion, light, and nuclear physics are combined with hundreds of solved and supplementary problems'),\n",
              " ('Science Fair Success Secrets: How to Win Prizes, Have Fun, and Think Like a Scientist',\n",
              "  ' Juvenile Nonfiction , Science & Nature , Experiments & Projects',\n",
              "  'This book is for anyone who wants to excel at a school science fair.  It gives complete guidance for every stage of a successful project, from brainstorming ideas to final presentation. More than a \"recipe-style\" science fair book, this work promotes the understanding of real science.  Twenty prizewinning projects from top national competitions are included: ? How to make the best chocolate-chip cookies-scientifically! ? Do lefties have slower reaction times than right-handers? ? Does grass grow faster if you cut it short? And more! Kids will love the hip, engaging text, filled with fascinating trivia and wacky science jokes, as well as the very funny illustrations. Solid science presented in a compelling manner makes this a stellar addition to the category.'),\n",
              " ('Scienceworks: 65 Experiments That Introduce The Fun And Wonder Of Science',\n",
              "  ' Science , General',\n",
              "  'Did you know you could take a piece of paper, get a pair of scissors, and cut a hole in it big enough for you to step through? That it’s possible to see sound and to hear through your teeth? To make it rain in your living room or find out how fast the earth is spinning? These are just a few of the 65 projects in this engaging book created by the prestigious Ontario Science Centre that will enable children to experience and enjoy science—as they’re learning about it.Many of these easy-to-perform experiments are presented as puzzles or tricks, each representing one of the fundamental principles of science. Others present complex phenomena on a small, observable scale. For example, kids will discover why icebergs float and where the wind gets its strength. They’ll construct a camera, support a stack of books on mere eggshells, and life a floating ice cube out of a glass of water by using just one end of a piece of string. And there’s much more.Each project is explained in clear step-by-step instructions and humorous drawings, and it ends with a word on the scientific forces at work. And most important, none of the experiments requires sophisticated equipment—only some curiosity and a few everyday household items. Parents will find these activities as amusing and intriguing as their kids—as they find out together how science works.'),\n",
              " ('Science For Fun Experiments',\n",
              "  ' Juvenile Nonfiction , Science & Nature , Experiments & Projects',\n",
              "  'Provides instructions for a selection of hands-on experiments introducing basic scientific principles in such areas as magnetism, electricity, and water'),\n",
              " ('The Best American Science Writing 2007',\n",
              "  ' Science , Essays',\n",
              "  \"Provocative and engaging, this collection brings together the premiere science writing of the year. Featuring the imprimatur of bestselling author and New York Times reporter Gina Kolata, one of the nation's foremost voices in science and medicine, and with contributions from Atul Gawande, Elizabeth Kolbert, and Oliver Sacks, among others, The Best American Science Writing 2007 is a compelling anthology of our most advanced, and most relevant, scientific inquiries.\"),\n",
              " ('AIR, LIGHT AND WATER (Tell Me About)',\n",
              "  ' Juvenile Nonfiction , General',\n",
              "  'Questions and answers introduce air, light, and water and the scientific principles involving them.'),\n",
              " (\"Janice VanCleave's Science Project Workbook, Grades 3-6\",\n",
              "  ' Juvenile Nonfiction , Science & Nature , General',\n",
              "  'Make the difference in your students? education with these hands-on science projects and activitie Whether they are just beginning to study science in earnest, or gearing up for this year?s science fair, students will appreciate this handy collection of 225 fun and easy-to-do experiments. Each experiment includes an individual worksheet, which students, parents, and teachers can use to keep track of progress and to brainstorm science ideas. There?s also a complete answer key in the back of the book, which students can use for immediate feedback and teachers will find invaluable for making assessments. The topics covered come from the science standards and span the science curriculum, including:  Astronomy Biology  Chemistry Earth Science  Physics  All the activities can be done either at home or in the classroom with inexpensive and easy-to-find materials'),\n",
              " ('What Remains to Be Discovered : Mapping the Secrets of the Universe, the Origins of Life, and the Future of the Human Race',\n",
              "  ' Science , General',\n",
              "  'One of the foremost visionary scientists of the twentieth century maps out how he believes humankind can expect the realms of science to expand and speculates as well about whether some of our age-old questions may soon be answered. 50,000 first printing. Tour.'),\n",
              " (\"101 Things You Don't Know About Science And No One Else Does Either\",\n",
              "  ' Science , Reference',\n",
              "  'James Trefil takes the reader on a thrilling tour across the borders of current scientific knowledge-from astronomy to genetics, from information technology to cosmology, the great contested questions that preoccupy researchers today and will become headlines tomorrow. In elegant, witty three-page summations, Dr. Trefil \"makes sense of science for the rest of us\" (Washington Post).'),\n",
              " ('The Ascent of Science',\n",
              "  ' Science , History',\n",
              "  'From the revolutionary discoveries of Galileo and Newton to the mind-bending theories of Einstein and Heisenberg, from plate tectonics to particle physics, from the origin of life to universal entropy, and from biology to cosmology, here is a sweeping, readable, and dynamic account of the whole of Western science. In the readable manner and method of Stephen Jay Gould and Carl Sagan, the late Brian L. Silver translates our most important, and often most obscure, scientific developments into a vernacular that is not only accessible and illuminating but also enjoyable. Silver makes his comprehensive case with much clarity and insight; he locates science as the apex of human reason, and reason as our best path to the truth. For all readers curious about--and especially those perhaps intimidated by--what Silver calls \"the scientific campaign up to now\" in his Preface,The Ascent of Science will be fresh, vivid, and fascinating reading.'),\n",
              " (\"Einstein's Mirror\",\n",
              "  ' Science , Physics , Relativity',\n",
              "  \"The Theory of Special Relativity is one of the most profound discoveries of the twentieth century. Einstein's Mirror blends a simple, nonmathematical account of the theory of special relativity and gravitation with a description of the way experiments have triumphantly supported these theories. The authors explore the many applications of relativity in atomic and nuclear physics, which are many and range from satellite navigation systems, particle accelerators and nuclear power to quantum chemistry, antimatter and black holes. The book also features a superb collection of photographs and includes amusing anecdotes and biographies about the early pioneers. In the closing chapter, the authors examine the influence of Einstein's relativity on the development of science fiction. General readers with an interest in science will enjoy and benefit from this fascinating and accessible introduction to one of the most important areas of physics.\"),\n",
              " ('The Science Book of Color: The Harcourt Brace Science Series',\n",
              "  ' Juvenile Nonfiction , Science & Nature , Experiments & Projects',\n",
              "  'Fun-packed science projects and experiments introduce readers to basic science principles. Full-color photographs and easy-to-follow text guide children through creative experiments using common materials, while practical examples relate each experiment to the world around us. “The handsome design and illustration of the series make it an inviting choice for library collections.”--Booklist  “Clear, well-spaced photographs, good instructions, and appropriate warning typify this series of experiment books for middle graders.”--The Horn Book'),\n",
              " ('The Science Book of Color: The Harcourt Brace Science Series',\n",
              "  ' Juvenile Nonfiction , Science & Nature , Experiments & Projects',\n",
              "  'Fun-packed science projects and experiments introduce readers to basic science principles. Full-color photographs and easy-to-follow text guide children through creative experiments using common materials, while practical examples relate each experiment to the world around us. “The handsome design and illustration of the series make it an inviting choice for library collections.”--Booklist  “Clear, well-spaced photographs, good instructions, and appropriate warning typify this series of experiment books for middle graders.”--The Horn Book'),\n",
              " ('The Random House Book of 1001 Wonders of Science',\n",
              "  ' Juvenile Nonfiction , Science & Nature , General',\n",
              "  'A collection of amazing scientific facts, presented with full-color illustrations and in a way easy for kids of all ages to understand and enjoy offers information on atoms, electricity, space, and much more. Original.'),\n",
              " ('How Things Work: 100 Ways Parents and Kids Can Share the Secrets of Technology',\n",
              "  ' Science , General',\n",
              "  'Identifies the scientific principles behind a variety of everyday objects while providing a range of informative and easy-to perform experiments, and highlights such items as a battery, a bar-code reader, and a disk drive. 40,000 first printing.'),\n",
              " ('The Creative Moment: How Science Made Itself Alien to Modern Culture',\n",
              "  ' Science , General',\n",
              "  'Taking our present ignorance of science and technology as a symptom of profound cultural malaise, writer and physicist Joseph Schwartz offers a provocative and fascinating look back into the history of science to find out how it progressively lost touch with the rest of society.Acting as a sort of science critic, Schwartz examines a range of great \"creative moments,\" from seventeenth-century Florence and Galileo (whose decision to describe his theories in mathematical language avoided trouble with the Church, but began the trend to number-worship in physics) to Cold Spring Harbor in 1946 and the invention of molecular biology, which ultimately fostered a way of thinking so restrictive that it may now be imperiling the search for an AIDS cure.Why Einstein\\'s relativity theory is so famously arcane, when it ought not to be....Why the bomb-makers of Los Alamos allowed themselves to be manipulated by the military....Why physicists have come up with almost no new ideas since the 1920s....These are the kinds of questions The Creative Moment tackles and illuminates with a freshness and knowledgeability that is the hallmark of a truly new approach to understanding science and technology.'),\n",
              " ('Science Fair: Developing a Successful and Fun Project',\n",
              "  ' Mathematics , General',\n",
              "  'Explains how to choose a subject, write a background research paper, perform the experiment, and set up the science fair display'),\n",
              " ('Fun with Mixing and Chemistry',\n",
              "  ' Science , Chemistry , General',\n",
              "  'Helps kids discover the scientific principles behind things that bounce, mix, stick, and otherwise react in chemical ways.'),\n",
              " ('The Universe and Eye',\n",
              "  ' Science , General',\n",
              "  'Sixty brief articles provide basic explanations of complex concepts of modern science'),\n",
              " ('Gardening in Small Spaces',\n",
              "  ' Juvenile Nonfiction , Gardening',\n",
              "  'Discoveries and inventions that have their basis in nature'),\n",
              " ('175 More Science Experiments to Amuse and Amaze Your Friends',\n",
              "  ' Juvenile Nonfiction , General',\n",
              "  'Experiments illustrate the principles of sound, electricity, magnets, weather, and simple chemistry'),\n",
              " ('Great Ideas in Physics',\n",
              "  ' Science , Physics , General',\n",
              "  'The conservation of energy, the second law of thermodynamics, the theory of relativity, quantum mechanics\\xad\\xadtogether, these concepts form the foundation upon which modern physics was built. But the influence of these four landmark ideas has extended far beyond hard science. There is no aspect of twentieth-century culture\\xad\\xadincluding the arts, social sciences, philosophy, and politics\\xad\\xadthat has not been profoundly influenced by them.In Great Ideas in Physics, Alan Lightman clearly explains the physics behind each of the four great ideas and deftly untangles for lay readers such knotty concepts as entropy, the relativity of time, and the Heisenberg uncertainty principle. Throughout the book he uses excerpts from the writings of scientific luminaries such as Newton, Kelvin, Einstein, and de Broglie to help place each in its proper historical perspective. And with the help of expertly annotated passages from the works of dozens of writers, philosophers, artists, and social theorists, Lightman explores the two-way influences of these landmark scientific concepts on our entire human culture and the world of ideas.'),\n",
              " ('Original Backyard Scientist: Experiments That Kids Can Perform Using Things Around the House Ages 4-12',\n",
              "  ' Juvenile Nonfiction , General',\n",
              "  'Twenty-nine experiments using everyday materials provide detailed instructions, questions to answer from observation, and an explanation of the basic principles of science to be demonstrated'),\n",
              " (\"LETS EXP SCI BALANCE (Let's Explore Science)\",\n",
              "  ' Juvenile Nonfiction , Science & Nature , Physics',\n",
              "  'Investigates, through simple experiments, the basic principles of balance and explores the concepts of gravity, mass, force, and weight.'),\n",
              " ('The Man Who Changed Everything',\n",
              "  'Biography & Autobiography',\n",
              "  'This is the first biography in twenty years of James Clerk Maxwell, one of the greatest scientists of our time and yet a man relatively unknown to the wider public. Approaching science with a freshness unbound by convention or previous expectations, he produced some of the most original scientific thinking of the nineteenth century — and his discoveries went on to shape the twentieth century.'),\n",
              " ('Physics Demystified : A Self-Teaching Guide (Demystified)',\n",
              "  ' Science , Physics , General',\n",
              "  'YOU DON’T HAVE TO BE A ROCKET SCIENTIST TO UNDERSTAND PHYSICSNow anyone with an interest in the physical sciences can master physics -- without formal training or drowning in a sea of complicated formulas and equations. In Physics Demystified best-selling author Stan Gibilisco offers a fun, effective, and totally painless way to learn the fundamentals and general concepts of physics. With Physics Demystified you master the subject one simple step at a time – at your own speed. Unlike most books on physics, general principles are presented first – and the details follow. In order to make the learning process as clear and simple as possible, heavy-duty math, formulas, and equations are kept to a minimum.  This unique self-teaching guide offers questions at the end of each chapter and section to pinpoint weaknesses, and a 100-question final exam to reinforce the entire book.Simple enough for a beginner but challenging enough for an advanced student, Physics Demystified is your direct route to learning or brushing up on physics.HERE’S EVERYTHING YOU NEED TO:* Understand the math used in physical science* Solve mass/force/acceleration problems* Create mathematical models of physical phenomena* Perform distance vs. time calculations* Determine potential and kinetic energy* Calculate the wavelength of sounds and radio signals* Understand visible light interference patterns* Calculate the energy and frequency of a moving particle* Understand atomic structure* Learn about electric current, voltage, resistance, power, and energy'),\n",
              " (\"What Einstein Didn't Know: Scientific Answers to Everyday Questions\",\n",
              "  ' Science , Reference',\n",
              "  'A science columnist for The Washington Post offers an entertaining, witty, and fascinating collection of explanations of the everyday phenomena of the natural world, along with amazing science \"bar bets\" and forty-eight ingenious experiments. Reprint.'),\n",
              " ('How the Earth Works (How It Works)',\n",
              "  ' Nature , Reference',\n",
              "  'A exploration of science for adults and their children offers a hands-on approach to learning, teaching readers how to build models, carry out experiments, make records, draw conclusions, and more. 35,000 first printing.'),\n",
              " ('Popular Science: Almanac for Kids',\n",
              "  ' Juvenile Nonfiction , Science & Nature , General',\n",
              "  'More than two hundred full-color photographs, diagrams, and illustrations provide creative ideas for fun projects, experiments, and interesting stories from the world of science. Original.'),\n",
              " ('100 First-Prize Make-It-Yourself Science Fair Projects',\n",
              "  ' Juvenile Nonfiction , Science & Nature , Experiments & Projects',\n",
              "  'Demonstrate the action of magnetic fields, make a moon box, build \"ant architecture,\" and measure static electricity. Plus: try homemade perfume, erupting volcanoes, jumping Puffed Wheat, a bubble gum plant graft, a big green solar machine, and a kite sighter. \"Well indexed and accurately illustrated with black-and-white pen-and-ink drawings, this book is a good starting place for finding successful science-fair projects.\"--School Library Journal. \"...can provide needed direction to parents and students facing looming classroom deadlines.\"--The Los Angeles Times. \"...offers a real varietyto young scientists...\"--Parent Council(r). Selected as Outstandingby Parent Council(r).'),\n",
              " (\"The Arrow of Time : A Voyage Through Science to Solve Time's Greatest Mystery\",\n",
              "  ' Science , General',\n",
              "  \"In this book physical chemist Dr Peter Coveney and award-winning science journalist Dr Roger Highfield have questioned our understanding of science with their humorous reinterpretation of the most profound aspect of time - why it points from the past to the future. The author's challenge to scientific preconceptions about the irreversibility of time is designed to link apparently irreconcilable features of science, from Einstein's obsession with causality to chaos theory, from the cause of jet lag to the Monday morning feeling.\"),\n",
              " (\"Einstein's 1912 manuscript on the special theory of relativity\",\n",
              "  'Biography & Autobiography',\n",
              "  \"The influence of Einstein's contributions on so many branches of physics is such that if one wanted to describe its full extent, it would be hard to know where to begin. His work and discoveries are so fundamental that each achievement alone would have gu\"),\n",
              " ('The Science in Science Fiction',\n",
              "  ' Science , General',\n",
              "  'An illustrated survey of the actual science behind recent science fiction investigates the frontiers of contemporary scientific knowledge and the possibility, and probability, of starships, cyborgs, time travel, and other \"science-fiction\" phenomena'),\n",
              " ('Discover Science Almanac (Stonesong Press Books)',\n",
              "  ' Reference , Almanacs',\n",
              "  'A compact and informative guide to major scientific advances, awards, and discoveries in a wide range of scientific disciplines provides shor tentries and feature articles on such topics as astronomy and cosmology, oceanography, medicine and human body, atmospheric sciences, archaeology and linguistics, geology, and the environment, among others. Original. 50,000 first printing.'),\n",
              " ('Leadership and the New Science: Learning about Organization from an Orderly Universe',\n",
              "  ' Business & Economics , Leadership',\n",
              "  'We live in a time of chaos, rich in potential for new possibilities. A new world is being born. We need new ideas, new ways of seeing, and new relationships to help us now. New science—the new discoveries in biology, chaos theory, and quantum physics that are changing our understanding of how the world works—offers this guidance. It describes a world where chaos is natural, where order exists \"for free.\" It displays the intricate webs of cooperation that connect us. It assures us that life seeks order, but uses messes to get there. Leadership and the New Science is the bestselling, most acclaimed, and most influential guide to applying the new science to organizations and management. In it, Wheatley describes how the new science radically alters our understanding of the world, and how it can teach us to live and work well together in these chaotic times. It will teach you how to move with greater certainty and easier grace into the new forms of organizations and communities that are taking shape. You’ll learn that:  Relationships are what matters—even at the subatomic level Life is a vast web of interconnections where cooperation and participation are required Chaos and change are the only route to transformation In this expanded edition, Wheatley provides examples of how non-linear networks and self-organizing systems are flourishing in the modern world. In the midst of turbulence, Wheatley shows, we create work and lives rich in meaning.'),\n",
              " ('The Last Word: Questions and Answers from the Popular Column on Everyday Science (New Scientist) (Vol 1)',\n",
              "  ' Reference , Questions & Answers',\n",
              "  'Why is the sky blue? Does it really get warmer when it snows? Why doesn\\'t superglue stick to the inside of the tube? How is it possible to uncork a bottle by hitting the bottom? Can you drive through a rainbow? Why does soap make bubblebath collapse?  The leading English language science weekly, The New Scientist, runs a popular column, \"The Last Word,\" that invites readers to write in with inquiries about everyday scientific phenomena. Providing a selection of the most interesting questions and answers from the column, this book covers a wide range of subjects, from plants and animals to the human body and gadgets and inventions. Fun and informative, it is fascinating reading for anyone who has ever found themselves asking these kinds of questions.'),\n",
              " (\"E=mc2: A Biography of the World's Most Famous Equation\",\n",
              "  ' Science , Physics , General',\n",
              "  'Already climbing the bestseller lists-and garnering rave reviews&#151;this \"little masterpiece\" sheds brilliant light on the equation that changed the world.Bodanis begins by devoting chapters to each of the equation\\'s letters and symbols, introducing the science and scientists forming the backdrop to Einstein\\'s discovery&#151;from Ole Roemer\\'s revelation that the speed of light could be measured to Michael Faraday\\'s pioneering work on energy fields. Having demystified the equation, Bodanis explains its science and brings it to life historically, making clear the astonishing array of discoveries and consequences it made possible. It would prove to be a beacon throughout the twentieth century, important to Ernest Rutherford, who discovered the structure of the atom, Enrico Fermi, who probed the nucleus, and Lise Meitner, who finally understood how atoms could be split wide open. And it has come to inform our daily lives, governing everything from the atomic bomb to a television\\'s cathode-ray tube to the carbon dating of prehistoric paintings.'),\n",
              " ('The Key to the Universe: A Report on the New Physics',\n",
              "  ' Science , General',\n",
              "  \"Explains, in layman's terms, recent discoveries in physics, astronomy, and cosmology and the implications of these breathtaking advances in man's knowledge of the universe\"),\n",
              " (\"47 Easy-to-Do Classic Science Experiments (Dover Children's Science Books)\",\n",
              "  ' Juvenile Nonfiction , Science & Nature , Experiments & Projects',\n",
              "  'Here is a highly motivating book for grade-school students that will introduce them to many of the world\\'s most popular (and historically significant) scientific experiments. They\\'ll learn about gravity simply by following the acrobatic antics of an ordinary coin. By trying to blow an egg out of a cup, they\\'ll discover the principles of air pressure. Dancing soap bubbles will help them understand the effects of static electricity, and by dropping quarters into a full glass of water without causing it to overflow, they\\'ll study the effects of surface tension.These and over 40 other experiments have been carefully selected by noted educators Eugene and Asterie Baker Provenzo to familiarize children with classic science experiments involving optics, inertia, air pressure, magnetism, sound, topology, light, density, vibration, prisms, elasticity, gases, vacuum, perspective, geometry, centrifugal force, buoyancy, color, and much more. Some experiments, such as the optical \"Newton\\'s Rings\" are hundreds of years old. Still others, like the straw lever test, are based on Greek experiments with leverage and the center of gravity — first carried out thousands of years ago.Easy-to-follow instructions and illustrations show youngsters how to perform each experiment, most of which are prefaced with historical background, a list of necessary materials and an explanation of key terms. Almost all experiments can be carried out with common household items (tissue paper, scissors, tapes, rubber balloons, pens, pencils, etc.) and can be worked at home or in the classroom to demonstrate specific scientific principles or to supplement a science-curriculum unit. Sources for all historical illustrations given in the text are listed at the end of the book.'),\n",
              " (\"Scientific American's Ask the Experts: Answers to The Most Puzzling and Mind-Blowing Science Questions\",\n",
              "  ' Science , Reference',\n",
              "  \"Why is the night sky dark? How do dolphins sleep without drowning? Why do hangovers occur? Will time travel ever be a reality? What makes a knuckleball appear to flutter? Why are craters always round?There's only one source to turn to for the answers to the most puzzling and thought-provoking questions about the world of science: Scientific American. Writing in a fun and accessible style, an esteemed team of scientists and educators will lead you on a wild ride from the far reaches of the universe to the natural world right in your own backyard. Along the way, you'll discover solutions to some of life's quirkiest conundrums, such as why cats purr, how frogs survive winter without freezing, why snowflakes are symmetrical, and much more. Even if you haven't picked up a science book since your school days, these tantalizing Q & A's will shed new light on the world around you, inside you, below you, above you, and beyond!\"),\n",
              " ('Understanding Physics', 'Physics', 'Motion, Sound, and Heat.'),\n",
              " ('You Can with Beakman: Science Stuff You Can Do (You Can with Beakman & Jax)',\n",
              "  ' Juvenile Nonfiction , Science & Nature , General',\n",
              "  'A collection of science experiments exploring such topics as apples, blood, chocolate, cassette tapes, microwaves, gasoline, lightning, recycling, slime, and paint'),\n",
              " ('The Art of Richard P. Feynman',\n",
              "  'Art',\n",
              "  \"Displays one of America's leading physicist's fascinating development of personal artistic sensitivity to line, form, and the moods of his subject.\"),\n",
              " ('Not Even Wrong',\n",
              "  'Science',\n",
              "  \"Has physics gone off in the wrong direction? Peter Woit presents the other side of the growing debate on string theory--arguing that it's not even science\"),\n",
              " (\"Why Aren't Black Holes Black?\",\n",
              "  ' Science , General',\n",
              "  'Explores the unanswered questions of science, such as \"Are we alone in the universe?\" and \"Can we unravel our genetic code?\"'),\n",
              " ('The End Of Science: Facing The Limits Of Knowledge In The Twilight Of The Scientific Age',\n",
              "  ' Science , History',\n",
              "  'Draws on interviews with many of the worlds leading scientists to discuss the possibility that humankind has reached the limits of scientific knowledge'),\n",
              " ('The Fermi Solution: Essays on Science',\n",
              "  ' Science , General',\n",
              "  \"From acclaimed science writer Hans Christian von Baeyer, the National Magazine Award - winning author of Taming the Atom, comes a magnificently written book that is a spectacular journey through the workings of the universe and into the minds of the creators of the twentieth-century-world picture, from the legendary geniuses, such as Albert Einstein, Werner Heisenberg, and Richard Feynman, to the current generation of scientists who follow in their footsteps.The Fermi Solution is a collection of dramatic tales bristling with subplots, vivid characters, and suspenseful twists and turns. Its subjects range across the spectrum of physical science, from the monumental - the Superconducting Super Collider and the Big Bang - to the enigmatic, such as crystals with impossible structures and the quest for the absolute zero of temperature. The drama of scientific research, the thoughts and feelings of its practitioners, the thrill of discovery, and the indomitable human urge to conquer the unknown form the rich background for the search for meaning that unites scientists and nonscientists alike.With wit and incisive intelligence the author pursues his central question: what do the breakthroughs and revolutionary insights at the cutting edge of science mean for ordinary people? In the course of this pursuit he explores the lessons that Nobel laureate Enrico Fermi's style of research teach us about the art of living, shows how CAT scans illustrate Richard Feynman's definition of the scientific method, and points out the visible clues for Einstein's theory of relativity that can be found in amusement parks. His fresh and illuminating images are drawn from the world of literature as often as from children's playgrounds and from daily life.\"),\n",
              " (\"Ripley's Believe It or Not\",\n",
              "  ' Reference , Curiosities & Wonders',\n",
              "  'A collection of strange facts and coincidences about animals and human beings in the world of science, art, and entertainment.'),\n",
              " ('Simple Nature Experiments With Everyday Materials',\n",
              "  ' Young Adult Fiction , Science & Technology',\n",
              "  'Aspiring scientists will discover the intricacies of simple ecosystems, learn how to create a desert, watch plant growth and development, feel the impact a simple act can have on the environment, and more. \"Simple and basic science projects which explain both experiments and associated science results.\"--Children\\'s Bookwatch.    128 pages, 120 b/w illus., 5 3/8 x 8 1/4.'),\n",
              " ('Science and Religion: Are They Compatible?',\n",
              "  ' Religion , Religion & Science',\n",
              "  'In recent years a noticeable trend toward harmonizing the distinct worldviews of science and religion has become increasingly popular. Despite marked public interest, many leading scientists remain skeptical that there is much common ground between scientific knowledge and religious belief. Indeed, they are often antagonistic. Can an accommodation be reached after centuries of conflict?In this stimulating collection of articles on the subject, Paul Kurtz, with the assistance of Barry Karr and Ranjit Sandhu, have assembled the thoughts of scientists from various disciplines. Among the distinguished contributors are Sir Arthur C. Clarke (author of 2001: A Space Odyssey, and numerous other works of science fiction); Nobel Prize Laureate Steven Weinberg (professor of physics at the University of Texas at Austin); Neil deGrasse Tyson (Princeton University astrophysicist and director of the Hayden Planetarium); James Lovelock (creator of the Gaia hypothesis); Kendrick Frazier (editor of the Skeptical Inquirer); Steven Pinker (professor of psychology at MIT); Richard Dawkins (zoologist at Oxford University); Eugenie Scott (physical anthropologist and executive director of the National Center for Science Education); Owen Gingerich (professor of astronomy at Harvard University); Martin Gardner (prolific popular science writer); the late Richard Feynman (Nobel Prize-winning physicist) and Stephen Jay Gould (professor of geology at Harvard University); and many other eminent scientists and scholars.Among the topics discussed are the Big Bang and the origin of the universe, intelligent design and creationism versus evolution, the nature of the \"soul,\" near-death experiences, communication with the dead, why people do or do not believe in God, and the relationship between religion and ethics.'),\n",
              " ('175 Science Experiments to Amuse and Amaze Your Friends',\n",
              "  ' Juvenile Nonfiction , General',\n",
              "  'Instructions for 175 experiments, tricks, and creations that illustrate the principles of light, water, movement, and air'),\n",
              " ('The Five Biggest Ideas in Science',\n",
              "  ' Young Adult Nonfiction , Science & Nature , General',\n",
              "  \"In a thought-provoking and entertaining exploration of The Five Biggest Ideas in Science, authors Charles Wynn and Arthur Wiggins provide a panoramic view of the questions scientists seek to answer about the natural world: * Do basic building blocks of matter exist, and if so, what do they look like? * BIG IDEA #1: Physics' Model of the Atom * What relationships, if any, exist among different kinds of atoms? * BIG IDEA #2: Chemistry's Periodic Law * Where did the atoms of the universe come from,and what is their destiny? * BIG IDEA #3: Astronomy's Big Bang Theory * How is the matter of the universe arranged in planet Earth? * BIG IDEA #4: Geology's Plate Tectonics Model * How did life on planet Earth originate and develop? * BIG IDEA #5: Biology's Theory of Evolution Get set for a lively and informative discussion, as you also learn how to evaluate potential applications of these and other scientific ideas.\"),\n",
              " ('An Introduction to Physical Science',\n",
              "  ' Science , General',\n",
              "  'An Introduction to Physical Science presents a survey of the physical sciences--physics, chemistry, astronomy, meteorology, and geology--for non-science majors. Topics are treated both descriptively and quantitatively, providing flexibility for instructors who wish to emphasize a highly descriptive approach, a highly quantitative approach, or anything in between. Time-tested pedagogical tools address the needs of a range of learning styles: concepts to be treated mathematically are consistently introduced from three perspectives (definition, word equation, symbol notation); Confidence Exercises follow in-text Examples, giving students an opportunity for immediate practice and reinforcement; and updated Spotlight On features use figures, photos, or flowcharts to visually summarize important topics. The Twelfth Edition includes new content and features that help students better visualize concepts, master basic math, and practice problem solving. In response to instructor feedback, new end-of-chapter problems appear throughout the text and sections on astronomy have been updated. A dynamic technology package combines course management and testing resources as well as online support for students. The Twelfth Edition is available in both a hardcover version and, at a reduced price, a paperback version, giving students flexible options to meet their needs.'),\n",
              " (\"Janice VanCleave's 200 Gooey, Slippery, Slimy, Weird and Fun Experiments\",\n",
              "  ' Juvenile Nonfiction , Science & Nature , Experiments & Projects',\n",
              "  'Why does a cat have a rough tongue? Why is the sky blue? Why does a person snore? How does a submarine rise and submerge? Learn the answers to these and other questions in biology, chemistry, physics, earth science, and astronomy through 200 fun and wacky, safe and low-cost experiments that can be performed at home or in the classroom. In 200 Gooey, Slippery, Slimy, Weird, and Fun Experiments, bestselling author and award-winning science educator Janice VanCleave brings together the best experiments from her popular Science for Every Kid series--plus 40 all-new experiments--to help kids learn about science the fun way. Packed with illustrations, 200 Gooey, Slippery, Slimy, Weird, and Fun Experiments uses simple problems, activities, and projects to explain important science principles through hands-on experience. You can learn how biology, chemistry, physics, earth science, and astronomy relate to your everyday life by making exciting discoveries that lie right at your fingertips! Children Ages 8-12'),\n",
              " ('Ideas and Information',\n",
              "  ' Science , General',\n",
              "  'A scientist probes the nature of computer information, exploring the assemblage of symbols, numbers, words, and pictures that make up information, the degree to which machines extract meaning, and the destined role of machines in our lives'),\n",
              " ('\"What Do You Care what Other People Think?\"',\n",
              "  'BIOGRAPHY & AUTOBIOGRAPHY',\n",
              "  'This two-part profile of the late Nobel Prize-winning scientist reveals the influence of his father and his first wife on his life and discusses his role in the investigation of the \"Challenger\" explosion.'),\n",
              " (\"Marshall Brain's How Stuff Works\",\n",
              "  ' Science , Reference',\n",
              "  \"Marshall Brain's How Stuff Works is a lavish, full-color, highly visual resource for those with hungry minds who crave an understanding of the way things work around them-from submarine ships to digital technology to toilets!  With over 1,000 full-color illustrations and photos showing step-by-step images of how stuff works, these easy-to-understand explanations cover the most popular and interesting subject areas, including Technology, Science, Health, Fitness, Transportation, and more! Sample topics include: How CDs Work, How Car Engines Work, and How Nuclear Radiation and Power Work.\")]"
            ]
          },
          "metadata": {},
          "execution_count": 42
        }
      ],
      "source": [
        "def recommend_books(query, desc_embedding, book_lookup, topk):\n",
        "    query_embedding = model.encode([query])\n",
        "    similarity = model.similarity(query_embedding, desc_embedding)\n",
        "    similarity_list = similarity.tolist()[0]\n",
        "    top_values = sorted(similarity_list, reverse=True)[:topk]\n",
        "    top_indices = [similarity_list.index(val) for val in top_values]\n",
        "\n",
        "    results = []\n",
        "    print(\"Top similarity values:\", top_values)\n",
        "\n",
        "    for i in top_indices:\n",
        "        if similarity_list[i] >= 0.4:\n",
        "            description_found = descriptions[i]\n",
        "            title = book_lookup[description_found][\"title\"]\n",
        "            categories = book_lookup[description_found][\"categories\"]\n",
        "            desc = book_lookup[description_found][\"descriptions\"]\n",
        "            results.append((title, categories, desc))\n",
        "\n",
        "    if not results:\n",
        "        return \"Không tìm thấy sách phù hợp!\", []\n",
        "\n",
        "    return results\n",
        "\n",
        "\n",
        "\n",
        "recommend_books(\"Science and Physics\", desc_embedding, book_lookup, 100)\n",
        "\n"
      ]
    },
    {
      "cell_type": "code",
      "execution_count": null,
      "metadata": {
        "colab": {
          "base_uri": "https://localhost:8080/",
          "height": 1000
        },
        "id": "PoJ9XLxks4Z7",
        "outputId": "5ef44cf7-c1c4-45c5-c937-2a6a10ff4b98"
      },
      "outputs": [
        {
          "output_type": "stream",
          "name": "stdout",
          "text": [
            "Collecting gradio\n",
            "  Downloading gradio-5.20.0-py3-none-any.whl.metadata (16 kB)\n",
            "Collecting aiofiles<24.0,>=22.0 (from gradio)\n",
            "  Downloading aiofiles-23.2.1-py3-none-any.whl.metadata (9.7 kB)\n",
            "Requirement already satisfied: anyio<5.0,>=3.0 in /usr/local/lib/python3.11/dist-packages (from gradio) (3.7.1)\n",
            "Collecting fastapi<1.0,>=0.115.2 (from gradio)\n",
            "  Downloading fastapi-0.115.11-py3-none-any.whl.metadata (27 kB)\n",
            "Collecting ffmpy (from gradio)\n",
            "  Downloading ffmpy-0.5.0-py3-none-any.whl.metadata (3.0 kB)\n",
            "Collecting gradio-client==1.7.2 (from gradio)\n",
            "  Downloading gradio_client-1.7.2-py3-none-any.whl.metadata (7.1 kB)\n",
            "Collecting groovy~=0.1 (from gradio)\n",
            "  Downloading groovy-0.1.2-py3-none-any.whl.metadata (6.1 kB)\n",
            "Requirement already satisfied: httpx>=0.24.1 in /usr/local/lib/python3.11/dist-packages (from gradio) (0.28.1)\n",
            "Requirement already satisfied: huggingface-hub>=0.28.1 in /usr/local/lib/python3.11/dist-packages (from gradio) (0.28.1)\n",
            "Requirement already satisfied: jinja2<4.0 in /usr/local/lib/python3.11/dist-packages (from gradio) (3.1.5)\n",
            "Collecting markupsafe~=2.0 (from gradio)\n",
            "  Downloading MarkupSafe-2.1.5-cp311-cp311-manylinux_2_17_x86_64.manylinux2014_x86_64.whl.metadata (3.0 kB)\n",
            "Requirement already satisfied: numpy<3.0,>=1.0 in /usr/local/lib/python3.11/dist-packages (from gradio) (1.26.4)\n",
            "Requirement already satisfied: orjson~=3.0 in /usr/local/lib/python3.11/dist-packages (from gradio) (3.10.15)\n",
            "Requirement already satisfied: packaging in /usr/local/lib/python3.11/dist-packages (from gradio) (24.2)\n",
            "Requirement already satisfied: pandas<3.0,>=1.0 in /usr/local/lib/python3.11/dist-packages (from gradio) (2.2.2)\n",
            "Requirement already satisfied: pillow<12.0,>=8.0 in /usr/local/lib/python3.11/dist-packages (from gradio) (11.1.0)\n",
            "Requirement already satisfied: pydantic>=2.0 in /usr/local/lib/python3.11/dist-packages (from gradio) (2.10.6)\n",
            "Collecting pydub (from gradio)\n",
            "  Downloading pydub-0.25.1-py2.py3-none-any.whl.metadata (1.4 kB)\n",
            "Collecting python-multipart>=0.0.18 (from gradio)\n",
            "  Downloading python_multipart-0.0.20-py3-none-any.whl.metadata (1.8 kB)\n",
            "Requirement already satisfied: pyyaml<7.0,>=5.0 in /usr/local/lib/python3.11/dist-packages (from gradio) (6.0.2)\n",
            "Collecting ruff>=0.9.3 (from gradio)\n",
            "  Downloading ruff-0.9.9-py3-none-manylinux_2_17_x86_64.manylinux2014_x86_64.whl.metadata (25 kB)\n",
            "Collecting safehttpx<0.2.0,>=0.1.6 (from gradio)\n",
            "  Downloading safehttpx-0.1.6-py3-none-any.whl.metadata (4.2 kB)\n",
            "Collecting semantic-version~=2.0 (from gradio)\n",
            "  Downloading semantic_version-2.10.0-py2.py3-none-any.whl.metadata (9.7 kB)\n",
            "Collecting starlette<1.0,>=0.40.0 (from gradio)\n",
            "  Downloading starlette-0.46.0-py3-none-any.whl.metadata (6.2 kB)\n",
            "Collecting tomlkit<0.14.0,>=0.12.0 (from gradio)\n",
            "  Downloading tomlkit-0.13.2-py3-none-any.whl.metadata (2.7 kB)\n",
            "Requirement already satisfied: typer<1.0,>=0.12 in /usr/local/lib/python3.11/dist-packages (from gradio) (0.15.1)\n",
            "Requirement already satisfied: typing-extensions~=4.0 in /usr/local/lib/python3.11/dist-packages (from gradio) (4.12.2)\n",
            "Collecting uvicorn>=0.14.0 (from gradio)\n",
            "  Downloading uvicorn-0.34.0-py3-none-any.whl.metadata (6.5 kB)\n",
            "Requirement already satisfied: fsspec in /usr/local/lib/python3.11/dist-packages (from gradio-client==1.7.2->gradio) (2024.10.0)\n",
            "Requirement already satisfied: websockets<16.0,>=10.0 in /usr/local/lib/python3.11/dist-packages (from gradio-client==1.7.2->gradio) (14.2)\n",
            "Requirement already satisfied: idna>=2.8 in /usr/local/lib/python3.11/dist-packages (from anyio<5.0,>=3.0->gradio) (3.10)\n",
            "Requirement already satisfied: sniffio>=1.1 in /usr/local/lib/python3.11/dist-packages (from anyio<5.0,>=3.0->gradio) (1.3.1)\n",
            "Requirement already satisfied: certifi in /usr/local/lib/python3.11/dist-packages (from httpx>=0.24.1->gradio) (2025.1.31)\n",
            "Requirement already satisfied: httpcore==1.* in /usr/local/lib/python3.11/dist-packages (from httpx>=0.24.1->gradio) (1.0.7)\n",
            "Requirement already satisfied: h11<0.15,>=0.13 in /usr/local/lib/python3.11/dist-packages (from httpcore==1.*->httpx>=0.24.1->gradio) (0.14.0)\n",
            "Requirement already satisfied: filelock in /usr/local/lib/python3.11/dist-packages (from huggingface-hub>=0.28.1->gradio) (3.17.0)\n",
            "Requirement already satisfied: requests in /usr/local/lib/python3.11/dist-packages (from huggingface-hub>=0.28.1->gradio) (2.32.3)\n",
            "Requirement already satisfied: tqdm>=4.42.1 in /usr/local/lib/python3.11/dist-packages (from huggingface-hub>=0.28.1->gradio) (4.67.1)\n",
            "Requirement already satisfied: python-dateutil>=2.8.2 in /usr/local/lib/python3.11/dist-packages (from pandas<3.0,>=1.0->gradio) (2.8.2)\n",
            "Requirement already satisfied: pytz>=2020.1 in /usr/local/lib/python3.11/dist-packages (from pandas<3.0,>=1.0->gradio) (2025.1)\n",
            "Requirement already satisfied: tzdata>=2022.7 in /usr/local/lib/python3.11/dist-packages (from pandas<3.0,>=1.0->gradio) (2025.1)\n",
            "Requirement already satisfied: annotated-types>=0.6.0 in /usr/local/lib/python3.11/dist-packages (from pydantic>=2.0->gradio) (0.7.0)\n",
            "Requirement already satisfied: pydantic-core==2.27.2 in /usr/local/lib/python3.11/dist-packages (from pydantic>=2.0->gradio) (2.27.2)\n",
            "Requirement already satisfied: click>=8.0.0 in /usr/local/lib/python3.11/dist-packages (from typer<1.0,>=0.12->gradio) (8.1.8)\n",
            "Requirement already satisfied: shellingham>=1.3.0 in /usr/local/lib/python3.11/dist-packages (from typer<1.0,>=0.12->gradio) (1.5.4)\n",
            "Requirement already satisfied: rich>=10.11.0 in /usr/local/lib/python3.11/dist-packages (from typer<1.0,>=0.12->gradio) (13.9.4)\n",
            "Requirement already satisfied: six>=1.5 in /usr/local/lib/python3.11/dist-packages (from python-dateutil>=2.8.2->pandas<3.0,>=1.0->gradio) (1.17.0)\n",
            "Requirement already satisfied: markdown-it-py>=2.2.0 in /usr/local/lib/python3.11/dist-packages (from rich>=10.11.0->typer<1.0,>=0.12->gradio) (3.0.0)\n",
            "Requirement already satisfied: pygments<3.0.0,>=2.13.0 in /usr/local/lib/python3.11/dist-packages (from rich>=10.11.0->typer<1.0,>=0.12->gradio) (2.18.0)\n",
            "Requirement already satisfied: charset-normalizer<4,>=2 in /usr/local/lib/python3.11/dist-packages (from requests->huggingface-hub>=0.28.1->gradio) (3.4.1)\n",
            "Requirement already satisfied: urllib3<3,>=1.21.1 in /usr/local/lib/python3.11/dist-packages (from requests->huggingface-hub>=0.28.1->gradio) (2.3.0)\n",
            "Requirement already satisfied: mdurl~=0.1 in /usr/local/lib/python3.11/dist-packages (from markdown-it-py>=2.2.0->rich>=10.11.0->typer<1.0,>=0.12->gradio) (0.1.2)\n",
            "Downloading gradio-5.20.0-py3-none-any.whl (62.3 MB)\n",
            "\u001b[2K   \u001b[90m━━━━━━━━━━━━━━━━━━━━━━━━━━━━━━━━━━━━━━━━\u001b[0m \u001b[32m62.3/62.3 MB\u001b[0m \u001b[31m13.7 MB/s\u001b[0m eta \u001b[36m0:00:00\u001b[0m\n",
            "\u001b[?25hDownloading gradio_client-1.7.2-py3-none-any.whl (322 kB)\n",
            "\u001b[2K   \u001b[90m━━━━━━━━━━━━━━━━━━━━━━━━━━━━━━━━━━━━━━━━\u001b[0m \u001b[32m322.1/322.1 kB\u001b[0m \u001b[31m25.1 MB/s\u001b[0m eta \u001b[36m0:00:00\u001b[0m\n",
            "\u001b[?25hDownloading aiofiles-23.2.1-py3-none-any.whl (15 kB)\n",
            "Downloading fastapi-0.115.11-py3-none-any.whl (94 kB)\n",
            "\u001b[2K   \u001b[90m━━━━━━━━━━━━━━━━━━━━━━━━━━━━━━━━━━━━━━━━\u001b[0m \u001b[32m94.9/94.9 kB\u001b[0m \u001b[31m9.5 MB/s\u001b[0m eta \u001b[36m0:00:00\u001b[0m\n",
            "\u001b[?25hDownloading groovy-0.1.2-py3-none-any.whl (14 kB)\n",
            "Downloading MarkupSafe-2.1.5-cp311-cp311-manylinux_2_17_x86_64.manylinux2014_x86_64.whl (28 kB)\n",
            "Downloading python_multipart-0.0.20-py3-none-any.whl (24 kB)\n",
            "Downloading ruff-0.9.9-py3-none-manylinux_2_17_x86_64.manylinux2014_x86_64.whl (11.2 MB)\n",
            "\u001b[2K   \u001b[90m━━━━━━━━━━━━━━━━━━━━━━━━━━━━━━━━━━━━━━━━\u001b[0m \u001b[32m11.2/11.2 MB\u001b[0m \u001b[31m101.8 MB/s\u001b[0m eta \u001b[36m0:00:00\u001b[0m\n",
            "\u001b[?25hDownloading safehttpx-0.1.6-py3-none-any.whl (8.7 kB)\n",
            "Downloading semantic_version-2.10.0-py2.py3-none-any.whl (15 kB)\n",
            "Downloading starlette-0.46.0-py3-none-any.whl (71 kB)\n",
            "\u001b[2K   \u001b[90m━━━━━━━━━━━━━━━━━━━━━━━━━━━━━━━━━━━━━━━━\u001b[0m \u001b[32m72.0/72.0 kB\u001b[0m \u001b[31m7.1 MB/s\u001b[0m eta \u001b[36m0:00:00\u001b[0m\n",
            "\u001b[?25hDownloading tomlkit-0.13.2-py3-none-any.whl (37 kB)\n",
            "Downloading uvicorn-0.34.0-py3-none-any.whl (62 kB)\n",
            "\u001b[2K   \u001b[90m━━━━━━━━━━━━━━━━━━━━━━━━━━━━━━━━━━━━━━━━\u001b[0m \u001b[32m62.3/62.3 kB\u001b[0m \u001b[31m5.9 MB/s\u001b[0m eta \u001b[36m0:00:00\u001b[0m\n",
            "\u001b[?25hDownloading ffmpy-0.5.0-py3-none-any.whl (6.0 kB)\n",
            "Downloading pydub-0.25.1-py2.py3-none-any.whl (32 kB)\n",
            "Installing collected packages: pydub, uvicorn, tomlkit, semantic-version, ruff, python-multipart, markupsafe, groovy, ffmpy, aiofiles, starlette, safehttpx, gradio-client, fastapi, gradio\n",
            "  Attempting uninstall: markupsafe\n",
            "    Found existing installation: MarkupSafe 3.0.2\n",
            "    Uninstalling MarkupSafe-3.0.2:\n",
            "      Successfully uninstalled MarkupSafe-3.0.2\n",
            "Successfully installed aiofiles-23.2.1 fastapi-0.115.11 ffmpy-0.5.0 gradio-5.20.0 gradio-client-1.7.2 groovy-0.1.2 markupsafe-2.1.5 pydub-0.25.1 python-multipart-0.0.20 ruff-0.9.9 safehttpx-0.1.6 semantic-version-2.10.0 starlette-0.46.0 tomlkit-0.13.2 uvicorn-0.34.0\n"
          ]
        },
        {
          "output_type": "display_data",
          "data": {
            "application/vnd.colab-display-data+json": {
              "pip_warning": {
                "packages": [
                  "markupsafe"
                ]
              },
              "id": "1fe16c5ff50141d1a8c7c49ddd917efb"
            }
          },
          "metadata": {}
        }
      ],
      "source": [
        "!pip install gradio"
      ]
    },
    {
      "cell_type": "code",
      "source": [
        "# Mô tả trắng\n",
        "\n",
        "import gradio as gr\n",
        "from translate import Translator\n",
        "\n",
        "def recommend_books_ui(query, topk, language):\n",
        "    try:\n",
        "        topk = int(topk)\n",
        "    except ValueError:\n",
        "        return \"Lỗi: Nhập lại một số nguyên hợp lệ!\"\n",
        "\n",
        "    # Nếu người dùng chọn tiếng Việt thì dịch sang tiếng Anh\n",
        "    if language == \"Vietnamese\":\n",
        "        translator = Translator(to_lang=\"en\", from_lang=\"vi\")\n",
        "        query = translator.translate(query)\n",
        "\n",
        "    recommended_books = recommend_books(query, desc_embedding, book_lookup, topk)\n",
        "\n",
        "    # Kiểm tra trường hợp không tìm thấy sách phù hợp\n",
        "    if isinstance(recommended_books, tuple) and isinstance(recommended_books[0], str) and recommended_books[0].startswith(\"Không tìm thấy\"):\n",
        "        return recommended_books[0]\n",
        "\n",
        "    # Xây dựng HTML cho từng sách, sử dụng button để bật/tắt mô tả\n",
        "    html_output = \"\"\n",
        "    for title, categories, desc in recommended_books:\n",
        "        html_output += f\"\"\"\n",
        "    <div style=\"margin-bottom:20px; border:1px solid #ccc; padding:10px; border-radius:5px;\">\n",
        "        <h3>{title}</h3>\n",
        "        <p><strong>Thể loại:</strong> {categories}</p>\n",
        "        <button onclick=\"var descElem = this.nextElementSibling; if(descElem.style.display==='none'){{descElem.style.display='block'; this.innerText='Ẩn mô tả';}} else {{descElem.style.display='none'; this.innerText='Hiển thị mô tả';}}\">\n",
        "            Hiển thị mô tả\n",
        "        </button>\n",
        "        <p style=\"display:none; margin-top:10px;\">{desc}</p>\n",
        "    </div>\n",
        "    \"\"\"\n",
        "    return html_output\n",
        "\n",
        "with gr.Blocks() as iface:\n",
        "    gr.Markdown(\"# 📚 Books Recommendation\")\n",
        "    gr.Markdown(\"Nhập mô tả rồi nhấn tìm kiếm nha :))\")\n",
        "\n",
        "    # Ô chọn ngôn ngữ được đặt lên trên\n",
        "    language_select = gr.Radio(choices=[\"English\", \"Vietnamese\"], label=\"Ngôn ngữ\", value=\"English\")\n",
        "\n",
        "    with gr.Row():\n",
        "        query_input = gr.Textbox(label=\"Nhập mô tả sách\", lines=2, placeholder=\"VD: Một câu chuyện phiêu lưu thú vị...\")\n",
        "        topk_input = gr.Textbox(label=\"Số lượng sách cần tìm\", value=\"3\")\n",
        "\n",
        "    submit_btn = gr.Button(\"🔍 Tìm kiếm\")\n",
        "    output_html = gr.HTML()\n",
        "\n",
        "    submit_btn.click(fn=recommend_books_ui, inputs=[query_input, topk_input, language_select], outputs=output_html)\n",
        "\n",
        "iface.launch(share=True)\n"
      ],
      "metadata": {
        "colab": {
          "base_uri": "https://localhost:8080/",
          "height": 591
        },
        "id": "0tUdysULcwOg",
        "outputId": "5c2ab4cb-c8f8-4030-b229-cadd88d6fd7d"
      },
      "execution_count": null,
      "outputs": [
        {
          "output_type": "stream",
          "name": "stdout",
          "text": [
            "Colab notebook detected. To show errors in colab notebook, set debug=True in launch()\n",
            "* Running on public URL: https://6c2b36c2a32a562710.gradio.live\n",
            "\n",
            "This share link expires in 72 hours. For free permanent hosting and GPU upgrades, run `gradio deploy` from the terminal in the working directory to deploy to Hugging Face Spaces (https://huggingface.co/spaces)\n"
          ]
        },
        {
          "output_type": "display_data",
          "data": {
            "text/plain": [
              "<IPython.core.display.HTML object>"
            ],
            "text/html": [
              "<div><iframe src=\"https://6c2b36c2a32a562710.gradio.live\" width=\"100%\" height=\"500\" allow=\"autoplay; camera; microphone; clipboard-read; clipboard-write;\" frameborder=\"0\" allowfullscreen></iframe></div>"
            ]
          },
          "metadata": {}
        },
        {
          "output_type": "execute_result",
          "data": {
            "text/plain": []
          },
          "metadata": {},
          "execution_count": 31
        }
      ]
    },
    {
      "cell_type": "code",
      "source": [],
      "metadata": {
        "id": "eumYPY2GqGOG"
      },
      "execution_count": null,
      "outputs": []
    },
    {
      "cell_type": "code",
      "source": [
        "# Main hệ thống\n",
        "\n",
        "import gradio as gr\n",
        "from translate import Translator\n",
        "\n",
        "####################################\n",
        "# (1) Hàm recommend_books_ui\n",
        "####################################\n",
        "def recommend_books_ui(query, topk, language):\n",
        "    # Kiểm tra số lượng sách cần tìm\n",
        "    try:\n",
        "        topk = int(topk)\n",
        "    except ValueError:\n",
        "        return \"<p style='color: red;'>❌ Lỗi: Nhập số nguyên hợp lệ!</p>\"\n",
        "\n",
        "    # Dịch sang tiếng Anh nếu ngôn ngữ là Vietnamese\n",
        "    if language == \"Tiếng Việt\":\n",
        "        translator = Translator(to_lang=\"en\", from_lang=\"vi\")\n",
        "        query = translator.translate(query)\n",
        "\n",
        "    # Gọi hàm gợi ý sách\n",
        "    recommended_books = recommend_books(query, desc_embedding, book_lookup, topk)\n",
        "\n",
        "    # Kiểm tra nếu không tìm thấy sách\n",
        "    if isinstance(recommended_books, tuple) and not recommended_books[1]:\n",
        "        return f\"<p style='color: red;'>❌ {recommended_books[0]}</p>\"\n",
        "\n",
        "    # CSS Dark Mode + Card UI\n",
        "    css_style = \"\"\"\n",
        "    <style>\n",
        "    body {\n",
        "        background-color: #1e1e1e !important;\n",
        "        color: #f0f0f0 !important;\n",
        "        font-family: \"Helvetica\", \"Arial\", sans-serif;\n",
        "        margin: 0;\n",
        "        padding: 0;\n",
        "    }\n",
        "    .book-container {\n",
        "        display: flex;\n",
        "        flex-wrap: wrap;\n",
        "        gap: 20px;\n",
        "    }\n",
        "    .book-card {\n",
        "        background: #2c2c2c;\n",
        "        color: #f0f0f0;\n",
        "        border: 1px solid #444;\n",
        "        border-radius: 10px;\n",
        "        padding: 15px;\n",
        "        width: 300px;\n",
        "        transition: transform 0.2s;\n",
        "    }\n",
        "    .book-card:hover {\n",
        "        transform: scale(1.05);\n",
        "    }\n",
        "    .book-title {\n",
        "        color: #ffa500;\n",
        "        font-size: 1.2em;\n",
        "        margin-bottom: 10px;\n",
        "    }\n",
        "    .book-category {\n",
        "        font-size: 0.9em;\n",
        "        color: #2ecc71;\n",
        "        margin-bottom: 10px;\n",
        "    }\n",
        "    details {\n",
        "        background: #3a3a3a;\n",
        "        padding: 8px;\n",
        "        border-radius: 5px;\n",
        "        cursor: pointer;\n",
        "        margin-top: 10px;\n",
        "    }\n",
        "    summary {\n",
        "        color: #0d6efd;\n",
        "        font-weight: bold;\n",
        "        cursor: pointer;\n",
        "    }\n",
        "    </style>\n",
        "    \"\"\"\n",
        "\n",
        "    # Tạo HTML hiển thị sách\n",
        "    html_output = css_style + \"<div class='book-container'>\"\n",
        "    for title, categories, desc in recommended_books:\n",
        "        html_output += f\"\"\"\n",
        "        <div class=\"book-card\">\n",
        "            <h3 class=\"book-title\">📖 {title}</h3>\n",
        "            <p class=\"book-category\"><strong>Thể loại:</strong> {categories}</p>\n",
        "            <details>\n",
        "                <summary>📜 Mô tả</summary>\n",
        "                <p>{desc}</p>\n",
        "            </details>\n",
        "        </div>\n",
        "        \"\"\"\n",
        "    html_output += \"</div>\"\n",
        "\n",
        "    return html_output\n",
        "\n",
        "\n",
        "####################################\n",
        "# (2) Tạo giao diện Gradio\n",
        "####################################\n",
        "with gr.Blocks() as iface:\n",
        "    gr.Markdown(\"# 📚 Books Recommendation\")\n",
        "    gr.Markdown(\"Nhập mô tả sách và số lượng sách cần tìm, sau đó nhấn Tìm kiếm\")\n",
        "\n",
        "    # Ô chọn ngôn ngữ\n",
        "    language_select = gr.Radio(\n",
        "        choices=[\"Tiếng Anh\", \"Tiếng Việt\"],\n",
        "        label=\"Chọn ngôn ngữ để tìm kiếm\",\n",
        "        value=\"Tiếng Anh\"\n",
        "    )\n",
        "\n",
        "    # Input: Mô tả sách và số lượng sách cần tìm\n",
        "    with gr.Row():\n",
        "        query_input = gr.Textbox(\n",
        "            label=\"Nhập mô tả sách\",\n",
        "            lines=2,\n",
        "            placeholder=\"VD: Một câu chuyện phiêu lưu thú vị...\"\n",
        "        )\n",
        "        topk_input = gr.Textbox(\n",
        "            label=\" Nhập số lượng sách cần tìm\",\n",
        "            value=\"3\"\n",
        "        )\n",
        "\n",
        "    # Nút tìm kiếm\n",
        "    submit_btn = gr.Button(\"🔍 Tìm kiếm\")\n",
        "\n",
        "    # Output kết quả\n",
        "    output_html = gr.HTML()\n",
        "\n",
        "    # Kết nối nút tìm kiếm với hàm xử lý\n",
        "    submit_btn.click(\n",
        "        fn=recommend_books_ui,\n",
        "        inputs=[query_input, topk_input, language_select],\n",
        "        outputs=output_html\n",
        "    )\n",
        "\n",
        "# Chạy ứng dụng\n",
        "iface.launch(share=True)\n"
      ],
      "metadata": {
        "colab": {
          "base_uri": "https://localhost:8080/",
          "height": 591
        },
        "id": "0OYBSIq4l-VX",
        "outputId": "d7c3a34f-91b7-4bc9-a108-e7a060bc494f"
      },
      "execution_count": null,
      "outputs": [
        {
          "output_type": "stream",
          "name": "stdout",
          "text": [
            "Colab notebook detected. To show errors in colab notebook, set debug=True in launch()\n",
            "* Running on public URL: https://5ecdcc61b8636dc49b.gradio.live\n",
            "\n",
            "This share link expires in 72 hours. For free permanent hosting and GPU upgrades, run `gradio deploy` from the terminal in the working directory to deploy to Hugging Face Spaces (https://huggingface.co/spaces)\n"
          ]
        },
        {
          "output_type": "display_data",
          "data": {
            "text/plain": [
              "<IPython.core.display.HTML object>"
            ],
            "text/html": [
              "<div><iframe src=\"https://5ecdcc61b8636dc49b.gradio.live\" width=\"100%\" height=\"500\" allow=\"autoplay; camera; microphone; clipboard-read; clipboard-write;\" frameborder=\"0\" allowfullscreen></iframe></div>"
            ]
          },
          "metadata": {}
        },
        {
          "output_type": "execute_result",
          "data": {
            "text/plain": []
          },
          "metadata": {},
          "execution_count": 43
        }
      ]
    },
    {
      "cell_type": "code",
      "source": [
        "pip install openai-whisper ffmpeg-python\n"
      ],
      "metadata": {
        "colab": {
          "base_uri": "https://localhost:8080/"
        },
        "id": "-PVl9sYVbM_U",
        "outputId": "1a1f5915-5cfb-4a8c-8f3a-c0f15265d2f4"
      },
      "execution_count": null,
      "outputs": [
        {
          "output_type": "stream",
          "name": "stdout",
          "text": [
            "Collecting openai-whisper\n",
            "  Downloading openai-whisper-20240930.tar.gz (800 kB)\n",
            "\u001b[?25l     \u001b[90m━━━━━━━━━━━━━━━━━━━━━━━━━━━━━━━━━━━━━━━━\u001b[0m \u001b[32m0.0/800.5 kB\u001b[0m \u001b[31m?\u001b[0m eta \u001b[36m-:--:--\u001b[0m\r\u001b[2K     \u001b[91m━━━━━━━━━━━━━━━━━━━━━━━━━━━━\u001b[0m\u001b[90m╺\u001b[0m\u001b[90m━━━━━━━━━━━\u001b[0m \u001b[32m563.2/800.5 kB\u001b[0m \u001b[31m16.7 MB/s\u001b[0m eta \u001b[36m0:00:01\u001b[0m\r\u001b[2K     \u001b[90m━━━━━━━━━━━━━━━━━━━━━━━━━━━━━━━━━━━━━━━━\u001b[0m \u001b[32m800.5/800.5 kB\u001b[0m \u001b[31m16.2 MB/s\u001b[0m eta \u001b[36m0:00:00\u001b[0m\n",
            "\u001b[?25h  Installing build dependencies ... \u001b[?25l\u001b[?25hdone\n",
            "  Getting requirements to build wheel ... \u001b[?25l\u001b[?25hdone\n",
            "  Preparing metadata (pyproject.toml) ... \u001b[?25l\u001b[?25hdone\n",
            "Collecting ffmpeg-python\n",
            "  Downloading ffmpeg_python-0.2.0-py3-none-any.whl.metadata (1.7 kB)\n",
            "Requirement already satisfied: numba in /usr/local/lib/python3.11/dist-packages (from openai-whisper) (0.61.0)\n",
            "Requirement already satisfied: numpy in /usr/local/lib/python3.11/dist-packages (from openai-whisper) (1.26.4)\n",
            "Requirement already satisfied: torch in /usr/local/lib/python3.11/dist-packages (from openai-whisper) (2.5.1+cu124)\n",
            "Requirement already satisfied: tqdm in /usr/local/lib/python3.11/dist-packages (from openai-whisper) (4.67.1)\n",
            "Requirement already satisfied: more-itertools in /usr/local/lib/python3.11/dist-packages (from openai-whisper) (10.6.0)\n",
            "Collecting tiktoken (from openai-whisper)\n",
            "  Downloading tiktoken-0.9.0-cp311-cp311-manylinux_2_17_x86_64.manylinux2014_x86_64.whl.metadata (6.7 kB)\n",
            "Requirement already satisfied: triton>=2.0.0 in /usr/local/lib/python3.11/dist-packages (from openai-whisper) (3.1.0)\n",
            "Requirement already satisfied: future in /usr/local/lib/python3.11/dist-packages (from ffmpeg-python) (1.0.0)\n",
            "Requirement already satisfied: filelock in /usr/local/lib/python3.11/dist-packages (from triton>=2.0.0->openai-whisper) (3.17.0)\n",
            "Requirement already satisfied: llvmlite<0.45,>=0.44.0dev0 in /usr/local/lib/python3.11/dist-packages (from numba->openai-whisper) (0.44.0)\n",
            "Requirement already satisfied: regex>=2022.1.18 in /usr/local/lib/python3.11/dist-packages (from tiktoken->openai-whisper) (2024.11.6)\n",
            "Requirement already satisfied: requests>=2.26.0 in /usr/local/lib/python3.11/dist-packages (from tiktoken->openai-whisper) (2.32.3)\n",
            "Requirement already satisfied: typing-extensions>=4.8.0 in /usr/local/lib/python3.11/dist-packages (from torch->openai-whisper) (4.12.2)\n",
            "Requirement already satisfied: networkx in /usr/local/lib/python3.11/dist-packages (from torch->openai-whisper) (3.4.2)\n",
            "Requirement already satisfied: jinja2 in /usr/local/lib/python3.11/dist-packages (from torch->openai-whisper) (3.1.5)\n",
            "Requirement already satisfied: fsspec in /usr/local/lib/python3.11/dist-packages (from torch->openai-whisper) (2024.10.0)\n",
            "Requirement already satisfied: nvidia-cuda-nvrtc-cu12==12.4.127 in /usr/local/lib/python3.11/dist-packages (from torch->openai-whisper) (12.4.127)\n",
            "Requirement already satisfied: nvidia-cuda-runtime-cu12==12.4.127 in /usr/local/lib/python3.11/dist-packages (from torch->openai-whisper) (12.4.127)\n",
            "Requirement already satisfied: nvidia-cuda-cupti-cu12==12.4.127 in /usr/local/lib/python3.11/dist-packages (from torch->openai-whisper) (12.4.127)\n",
            "Requirement already satisfied: nvidia-cudnn-cu12==9.1.0.70 in /usr/local/lib/python3.11/dist-packages (from torch->openai-whisper) (9.1.0.70)\n",
            "Requirement already satisfied: nvidia-cublas-cu12==12.4.5.8 in /usr/local/lib/python3.11/dist-packages (from torch->openai-whisper) (12.4.5.8)\n",
            "Requirement already satisfied: nvidia-cufft-cu12==11.2.1.3 in /usr/local/lib/python3.11/dist-packages (from torch->openai-whisper) (11.2.1.3)\n",
            "Requirement already satisfied: nvidia-curand-cu12==10.3.5.147 in /usr/local/lib/python3.11/dist-packages (from torch->openai-whisper) (10.3.5.147)\n",
            "Requirement already satisfied: nvidia-cusolver-cu12==11.6.1.9 in /usr/local/lib/python3.11/dist-packages (from torch->openai-whisper) (11.6.1.9)\n",
            "Requirement already satisfied: nvidia-cusparse-cu12==12.3.1.170 in /usr/local/lib/python3.11/dist-packages (from torch->openai-whisper) (12.3.1.170)\n",
            "Requirement already satisfied: nvidia-nccl-cu12==2.21.5 in /usr/local/lib/python3.11/dist-packages (from torch->openai-whisper) (2.21.5)\n",
            "Requirement already satisfied: nvidia-nvtx-cu12==12.4.127 in /usr/local/lib/python3.11/dist-packages (from torch->openai-whisper) (12.4.127)\n",
            "Requirement already satisfied: nvidia-nvjitlink-cu12==12.4.127 in /usr/local/lib/python3.11/dist-packages (from torch->openai-whisper) (12.4.127)\n",
            "Requirement already satisfied: sympy==1.13.1 in /usr/local/lib/python3.11/dist-packages (from torch->openai-whisper) (1.13.1)\n",
            "Requirement already satisfied: mpmath<1.4,>=1.1.0 in /usr/local/lib/python3.11/dist-packages (from sympy==1.13.1->torch->openai-whisper) (1.3.0)\n",
            "Requirement already satisfied: charset-normalizer<4,>=2 in /usr/local/lib/python3.11/dist-packages (from requests>=2.26.0->tiktoken->openai-whisper) (3.4.1)\n",
            "Requirement already satisfied: idna<4,>=2.5 in /usr/local/lib/python3.11/dist-packages (from requests>=2.26.0->tiktoken->openai-whisper) (3.10)\n",
            "Requirement already satisfied: urllib3<3,>=1.21.1 in /usr/local/lib/python3.11/dist-packages (from requests>=2.26.0->tiktoken->openai-whisper) (2.3.0)\n",
            "Requirement already satisfied: certifi>=2017.4.17 in /usr/local/lib/python3.11/dist-packages (from requests>=2.26.0->tiktoken->openai-whisper) (2025.1.31)\n",
            "Requirement already satisfied: MarkupSafe>=2.0 in /usr/local/lib/python3.11/dist-packages (from jinja2->torch->openai-whisper) (2.1.5)\n",
            "Downloading ffmpeg_python-0.2.0-py3-none-any.whl (25 kB)\n",
            "Downloading tiktoken-0.9.0-cp311-cp311-manylinux_2_17_x86_64.manylinux2014_x86_64.whl (1.2 MB)\n",
            "\u001b[2K   \u001b[90m━━━━━━━━━━━━━━━━━━━━━━━━━━━━━━━━━━━━━━━━\u001b[0m \u001b[32m1.2/1.2 MB\u001b[0m \u001b[31m48.8 MB/s\u001b[0m eta \u001b[36m0:00:00\u001b[0m\n",
            "\u001b[?25hBuilding wheels for collected packages: openai-whisper\n",
            "  Building wheel for openai-whisper (pyproject.toml) ... \u001b[?25l\u001b[?25hdone\n",
            "  Created wheel for openai-whisper: filename=openai_whisper-20240930-py3-none-any.whl size=803373 sha256=e16140913b30de1934d76edeadc983bac38ee41a630d773145326d2ce90eec12\n",
            "  Stored in directory: /root/.cache/pip/wheels/2f/f2/ce/6eb23db4091d026238ce76703bd66da60b969d70bcc81d5d3a\n",
            "Successfully built openai-whisper\n",
            "Installing collected packages: ffmpeg-python, tiktoken, openai-whisper\n",
            "Successfully installed ffmpeg-python-0.2.0 openai-whisper-20240930 tiktoken-0.9.0\n"
          ]
        }
      ]
    },
    {
      "cell_type": "code",
      "source": [
        "# Mô tả xanh\n",
        "\n",
        "\n",
        "import gradio as gr\n",
        "from translate import Translator\n",
        "\n",
        "def recommend_books_ui(query, topk, language):\n",
        "    try:\n",
        "        topk = int(topk)\n",
        "    except ValueError:\n",
        "        return \"Lỗi: Nhập lại một số nguyên hợp lệ!\"\n",
        "\n",
        "    # Nếu người dùng chọn tiếng Việt thì dịch sang tiếng Anh\n",
        "    if language == \"Vietnamese\":\n",
        "        translator = Translator(to_lang=\"en\", from_lang=\"vi\")\n",
        "        query = translator.translate(query)\n",
        "\n",
        "    recommended_books = recommend_books(query, desc_embedding, book_lookup, topk)\n",
        "\n",
        "    # Kiểm tra trường hợp không tìm thấy sách phù hợp\n",
        "    if isinstance(recommended_books, tuple) and isinstance(recommended_books[0], str) and recommended_books[0].startswith(\"Không tìm thấy\"):\n",
        "        return recommended_books[0]\n",
        "\n",
        "    # Xây dựng HTML cho từng sách, sử dụng thẻ details để ẩn/hiện mô tả\n",
        "    html_output = \"\"\n",
        "    for title, categories, desc in recommended_books:\n",
        "        html_output += f\"\"\"\n",
        "        <div style='margin-bottom:20px; border:1px solid #ccc; padding:10px; border-radius:5px;'>\n",
        "            <h3>Sách: {title}</h3>\n",
        "            <p><strong>Thể loại:</strong> {categories}</p>\n",
        "            <details>\n",
        "                <summary style=\"cursor:pointer; color:blue;\">Mô tả</summary>\n",
        "                <p>{desc}</p>\n",
        "            </details>\n",
        "        </div>\n",
        "        \"\"\"\n",
        "    return html_output\n",
        "\n",
        "with gr.Blocks() as iface:\n",
        "    gr.Markdown(\"# 📚 Books Recommendation\")\n",
        "    gr.Markdown(\"Nhập mô tả rồi nhấn tìm kiếm nha :))\")\n",
        "\n",
        "    # Ô chọn ngôn ngữ được đặt lên trên\n",
        "    language_select = gr.Radio(choices=[\"English\", \"Vietnamese\"], label=\"Ngôn ngữ\", value=\"English\")\n",
        "\n",
        "    with gr.Row():\n",
        "        query_input = gr.Textbox(label=\"Nhập mô tả sách\", lines=2, placeholder=\"VD: Một câu chuyện phiêu lưu thú vị...\")\n",
        "        topk_input = gr.Textbox(label=\"Số lượng sách cần tìm\", value=\"3\")\n",
        "\n",
        "    submit_btn = gr.Button(\"🔍 Tìm kiếm\")\n",
        "    output_html = gr.HTML()\n",
        "\n",
        "    submit_btn.click(fn=recommend_books_ui, inputs=[query_input, topk_input, language_select], outputs=output_html)\n",
        "\n",
        "iface.launch(share=True)\n"
      ],
      "metadata": {
        "colab": {
          "base_uri": "https://localhost:8080/",
          "height": 591
        },
        "id": "QPdRRpULqHXX",
        "outputId": "10c6ec03-47c5-41a9-c9ec-5dcf0ca6df1e"
      },
      "execution_count": null,
      "outputs": [
        {
          "output_type": "stream",
          "name": "stdout",
          "text": [
            "Colab notebook detected. To show errors in colab notebook, set debug=True in launch()\n",
            "* Running on public URL: https://86c861176fbeaabad5.gradio.live\n",
            "\n",
            "This share link expires in 72 hours. For free permanent hosting and GPU upgrades, run `gradio deploy` from the terminal in the working directory to deploy to Hugging Face Spaces (https://huggingface.co/spaces)\n"
          ]
        },
        {
          "output_type": "display_data",
          "data": {
            "text/plain": [
              "<IPython.core.display.HTML object>"
            ],
            "text/html": [
              "<div><iframe src=\"https://86c861176fbeaabad5.gradio.live\" width=\"100%\" height=\"500\" allow=\"autoplay; camera; microphone; clipboard-read; clipboard-write;\" frameborder=\"0\" allowfullscreen></iframe></div>"
            ]
          },
          "metadata": {}
        },
        {
          "output_type": "execute_result",
          "data": {
            "text/plain": []
          },
          "metadata": {},
          "execution_count": 99
        }
      ]
    },
    {
      "cell_type": "code",
      "source": [
        "import torch\n",
        "import whisper\n",
        "import gradio as gr\n",
        "from translate import Translator\n",
        "\n",
        "####################################\n",
        "# (1) Khởi tạo mô hình Whisper\n",
        "####################################\n",
        "device = \"cuda\" if torch.cuda.is_available() else \"cpu\"\n",
        "whisper_model = whisper.load_model(\"small\", device=device, download_root=\".\")  # Đổi model -> whisper_model\n",
        "\n",
        "def speech_to_text(audio_path):\n",
        "    \"\"\"Chuyển đổi giọng nói thành văn bản bằng Whisper.\"\"\"\n",
        "    result = whisper_model.transcribe(audio_path)\n",
        "    return result[\"text\"]\n",
        "\n",
        "####################################\n",
        "# (2) Hàm gợi ý sách\n",
        "####################################\n",
        "def recommend_books_ui(query, topk, language):\n",
        "    \"\"\"Gợi ý sách dựa trên mô tả đầu vào.\"\"\"\n",
        "    try:\n",
        "        topk = int(topk)\n",
        "    except ValueError:\n",
        "        return \"<p style='color: red;'>❌ Lỗi: Nhập số nguyên hợp lệ!</p>\"\n",
        "\n",
        "    # Dịch sang tiếng Anh nếu chọn Tiếng Việt\n",
        "    if language == \"Tiếng Việt\":\n",
        "        translator = Translator(to_lang=\"en\", from_lang=\"vi\")\n",
        "        query = translator.translate(query)\n",
        "\n",
        "    recommended_books = recommend_books(query, desc_embedding, book_lookup, topk)\n",
        "\n",
        "    # Kiểm tra nếu không có kết quả\n",
        "    if isinstance(recommended_books, tuple) and not recommended_books[1]:\n",
        "        return f\"<p style='color: red;'>❌ {recommended_books[0]}</p>\"\n",
        "\n",
        "    # CSS Dark Mode + Card UI\n",
        "    css_style = \"\"\"\n",
        "    <style>\n",
        "    body {\n",
        "        background-color: #1e1e1e !important;\n",
        "        color: #f0f0f0 !important;\n",
        "        font-family: \"Helvetica\", \"Arial\", sans-serif;\n",
        "        margin: 0;\n",
        "        padding: 0;\n",
        "    }\n",
        "    .book-container {\n",
        "        display: flex;\n",
        "        flex-wrap: wrap;\n",
        "        gap: 20px;\n",
        "    }\n",
        "    .book-card {\n",
        "        background: #2c2c2c;\n",
        "        color: #f0f0f0;\n",
        "        border: 1px solid #444;\n",
        "        border-radius: 10px;\n",
        "        padding: 15px;\n",
        "        width: 300px;\n",
        "        transition: transform 0.2s;\n",
        "    }\n",
        "    .book-card:hover {\n",
        "        transform: scale(1.05);\n",
        "    }\n",
        "    .book-title {\n",
        "        color: #ffa500;\n",
        "        font-size: 1.2em;\n",
        "        margin-bottom: 10px;\n",
        "    }\n",
        "    .book-category {\n",
        "        font-size: 0.9em;\n",
        "        color: #2ecc71;\n",
        "        margin-bottom: 10px;\n",
        "    }\n",
        "    details {\n",
        "        background: #3a3a3a;\n",
        "        padding: 8px;\n",
        "        border-radius: 5px;\n",
        "        cursor: pointer;\n",
        "        margin-top: 10px;\n",
        "    }\n",
        "    summary {\n",
        "        color: #0d6efd;\n",
        "        font-weight: bold;\n",
        "        cursor: pointer;\n",
        "    }\n",
        "    </style>\n",
        "    \"\"\"\n",
        "\n",
        "    # Tạo HTML hiển thị sách\n",
        "    html_output = css_style + \"<div class='book-container'>\"\n",
        "    for title, categories, desc in recommended_books:\n",
        "        html_output += f\"\"\"\n",
        "        <div class=\"book-card\">\n",
        "            <h3 class=\"book-title\">📖 {title}</h3>\n",
        "            <p class=\"book-category\"><strong>Thể loại:</strong> {categories}</p>\n",
        "            <details>\n",
        "                <summary>📜 Mô tả</summary>\n",
        "                <p>{desc}</p>\n",
        "            </details>\n",
        "        </div>\n",
        "        \"\"\"\n",
        "    html_output += \"</div>\"\n",
        "\n",
        "    return html_output\n",
        "\n",
        "####################################\n",
        "# (3) Xử lý nhập giọng nói\n",
        "####################################\n",
        "def handle_speech(audio):\n",
        "    \"\"\"Xử lý giọng nói và hiển thị nội dung.\"\"\"\n",
        "    if audio is None:\n",
        "        return \"❌ Vui lòng nói vào micro!\"\n",
        "    text = speech_to_text(audio)\n",
        "    return text\n",
        "\n",
        "####################################\n",
        "# (4) Giao diện Gradio\n",
        "####################################\n",
        "with gr.Blocks() as iface:\n",
        "    gr.Markdown(\"# 📚 Book Recommendation System (🎤 Voice Input)\")\n",
        "\n",
        "    # Lựa chọn ngôn ngữ\n",
        "    language_select = gr.Radio(\n",
        "        choices=[\"Tiếng Anh\", \"Tiếng Việt\"],\n",
        "        label=\"Chọn ngôn ngữ tìm kiếm\",\n",
        "        value=\"Tiếng Anh\"\n",
        "    )\n",
        "\n",
        "    # Input: Nhập mô tả hoặc sử dụng giọng nói\n",
        "    with gr.Row():\n",
        "        query_input = gr.Textbox(\n",
        "            label=\"Nhập mô tả sách\",\n",
        "            lines=2,\n",
        "            placeholder=\"VD: Một câu chuyện phiêu lưu thú vị...\"\n",
        "        )\n",
        "        topk_input = gr.Textbox(\n",
        "            label=\"Nhập số lượng sách cần tìm\",\n",
        "            value=\"3\"\n",
        "        )\n",
        "\n",
        "    # Nút thu âm và hiển thị văn bản nhận diện\n",
        "    speech_input = gr.Audio(sources=[\"microphone\"], type=\"filepath\", label=\"🎤 Nhấn để nói\")\n",
        "    recognized_text = gr.Textbox(label=\"Bạn đã nói:\", interactive=False)\n",
        "\n",
        "    # Kết nối nhận diện giọng nói\n",
        "    speech_input.change(fn=handle_speech, inputs=speech_input, outputs=recognized_text)\n",
        "\n",
        "    # Nút tìm kiếm\n",
        "    submit_btn = gr.Button(\"🔍 Tìm kiếm\")\n",
        "\n",
        "    # Output kết quả gợi ý sách\n",
        "    output_html = gr.HTML()\n",
        "\n",
        "    # Kết nối nút tìm kiếm với hệ thống gợi ý sách\n",
        "    submit_btn.click(\n",
        "        fn=recommend_books_ui,\n",
        "        inputs=[recognized_text, topk_input, language_select],\n",
        "        outputs=output_html\n",
        "    )\n",
        "\n",
        "iface.launch(share=True)\n"
      ],
      "metadata": {
        "id": "qOO8j-1AgyLw",
        "outputId": "122e5b57-00b1-4f3d-8c15-21e04966af61",
        "colab": {
          "base_uri": "https://localhost:8080/",
          "height": 646
        }
      },
      "execution_count": null,
      "outputs": [
        {
          "output_type": "stream",
          "name": "stderr",
          "text": [
            "/usr/local/lib/python3.11/dist-packages/whisper/__init__.py:150: FutureWarning: You are using `torch.load` with `weights_only=False` (the current default value), which uses the default pickle module implicitly. It is possible to construct malicious pickle data which will execute arbitrary code during unpickling (See https://github.com/pytorch/pytorch/blob/main/SECURITY.md#untrusted-models for more details). In a future release, the default value for `weights_only` will be flipped to `True`. This limits the functions that could be executed during unpickling. Arbitrary objects will no longer be allowed to be loaded via this mode unless they are explicitly allowlisted by the user via `torch.serialization.add_safe_globals`. We recommend you start setting `weights_only=True` for any use case where you don't have full control of the loaded file. Please open an issue on GitHub for any issues related to this experimental feature.\n",
            "  checkpoint = torch.load(fp, map_location=device)\n"
          ]
        },
        {
          "output_type": "stream",
          "name": "stdout",
          "text": [
            "Colab notebook detected. To show errors in colab notebook, set debug=True in launch()\n",
            "* Running on public URL: https://96a567f9a73ccc543a.gradio.live\n",
            "\n",
            "This share link expires in 72 hours. For free permanent hosting and GPU upgrades, run `gradio deploy` from the terminal in the working directory to deploy to Hugging Face Spaces (https://huggingface.co/spaces)\n"
          ]
        },
        {
          "output_type": "display_data",
          "data": {
            "text/plain": [
              "<IPython.core.display.HTML object>"
            ],
            "text/html": [
              "<div><iframe src=\"https://96a567f9a73ccc543a.gradio.live\" width=\"100%\" height=\"500\" allow=\"autoplay; camera; microphone; clipboard-read; clipboard-write;\" frameborder=\"0\" allowfullscreen></iframe></div>"
            ]
          },
          "metadata": {}
        },
        {
          "output_type": "execute_result",
          "data": {
            "text/plain": []
          },
          "metadata": {},
          "execution_count": 44
        }
      ]
    }
  ],
  "metadata": {
    "colab": {
      "provenance": [],
      "gpuType": "T4",
      "authorship_tag": "ABX9TyNpCBpZyHowmcZQcUue4yX8",
      "include_colab_link": true
    },
    "kernelspec": {
      "display_name": "Python 3",
      "name": "python3"
    },
    "language_info": {
      "name": "python"
    },
    "accelerator": "GPU"
  },
  "nbformat": 4,
  "nbformat_minor": 0
}